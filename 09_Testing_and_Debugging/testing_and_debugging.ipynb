{
 "cells": [
  {
   "cell_type": "markdown",
   "metadata": {},
   "source": [
    "# Chapter 9: Testing and Debugging\n",
    "\n",
    "Python doesn't have any compile-time static type checking.  There's nothing in the interpreter that will ensure that your program will work correctly when you run it.  Python does support optional type annotations that can be used in static analysis tools to detect many kinds of bugs.  However, it's still fundamentally a dynamic language, and anything is possible.  "
   ]
  },
  {
   "cell_type": "markdown",
   "metadata": {},
   "source": [
    "## Item 75: Use `repr` Strings for Debugging Output\n",
    "\n",
    "When debugging a Python program, the `print` function and format strings, or output via the `loggin` built-in module will you get surprisingly far.  \n",
    "\n",
    "The `repr` built-in function returns the **printable representation** of an object, which should be its most clearly understandable string representation.  \n",
    "\n",
    "When debugging with `print`, you should call `repr` on a value before printing to ensure that any differences in types is clear:"
   ]
  },
  {
   "cell_type": "code",
   "execution_count": 1,
   "metadata": {},
   "outputs": [
    {
     "name": "stdout",
     "output_type": "stream",
     "text": [
      "5\n",
      "'5'\n"
     ]
    }
   ],
   "source": [
    "print(repr(5))\n",
    "print(repr('5'))"
   ]
  },
  {
   "cell_type": "markdown",
   "metadata": {},
   "source": [
    "This is equivalent to using an f-string with the `!r` type conversion:"
   ]
  },
  {
   "cell_type": "code",
   "execution_count": 2,
   "metadata": {},
   "outputs": [
    {
     "name": "stdout",
     "output_type": "stream",
     "text": [
      "5 != '5'\n"
     ]
    }
   ],
   "source": [
    "int_value = 5\n",
    "str_value = '5'\n",
    "\n",
    "print(f'{int_value!r} != {str_value!r}')"
   ]
  },
  {
   "cell_type": "markdown",
   "metadata": {},
   "source": [
    "If you have control over the class, you can define your own `__repr__` special method that returns a string containing hte Python expression that re-creates the object."
   ]
  },
  {
   "cell_type": "code",
   "execution_count": 3,
   "metadata": {},
   "outputs": [
    {
     "name": "stdout",
     "output_type": "stream",
     "text": [
      "BetterClass(2, 'bar')\n"
     ]
    }
   ],
   "source": [
    "class BetterClass:\n",
    "    def __init__(self, x, y):\n",
    "        self.x = x\n",
    "        self.y = y\n",
    "        \n",
    "    def __repr__(self):\n",
    "        return f'BetterClass({self.x!r}, {self.y!r})'\n",
    "    \n",
    "obj = BetterClass(2, 'bar')\n",
    "print(obj)"
   ]
  },
  {
   "cell_type": "markdown",
   "metadata": {},
   "source": [
    "## Item 76: Verify Related Behaviors in `TestCase` Subclasses\n",
    "\n",
    "The canonical way to write tests in Python is to use the `unittest` built-in module.\n",
    "\n",
    "You can create tests by sublcassing the `TestCase` class fro mthe `unittest` built-in module and defining one method per behavior you'd like to test.  Test methods on `TestCase` classes must start with the word `test`.  \n",
    "\n",
    "Use the various helper methods defined by the `TestCase` class, such as `assertEqual`, to confirm expected behaviors in your tests instead of using the built-in assert statement.  \n",
    "\n",
    "Consider writing data-driven tests using the `subTest` helper method in order to reduce boilerplate.\n",
    "\n"
   ]
  },
  {
   "cell_type": "markdown",
   "metadata": {},
   "source": [
    "## Item 77: Islate Tests from EAch Other with `setUp`, `tearDown`, `setUpModule` and 'tearDownModule'\n",
    "\n",
    "`TestCase` classes often need to have the test environment set up before test methods can be run; this is sometimes called the **test harness**.  To do this, you can override the `setUp` and `tearDown` methods of a `TestCase` subclass.  These methods are called before radn after each test method, respectively, so you can ensure that each test runs in isolation, which is an important best practice of proper testing.  "
   ]
  },
  {
   "cell_type": "code",
   "execution_count": 4,
   "metadata": {},
   "outputs": [],
   "source": [
    "from pathlib import Path\n",
    "from tempfile import TemporaryDirectory\n",
    "from unittest import TestCase, main\n",
    "\n",
    "class EnvironmentTest(TestCase):\n",
    "    def setUp(self):\n",
    "        self.test_dir = TemporaryDirectory()\n",
    "        self.test_path = Path(self.test_dir.name)\n",
    "        \n",
    "    def tearDown(self):\n",
    "        self.test_dir.cleanup()\n",
    "        \n",
    "    def test_modify_file(self):\n",
    "        with open(self.test_path / 'data.bin', 'w') as f:\n",
    "            pass"
   ]
  },
  {
   "cell_type": "markdown",
   "metadata": {},
   "source": [
    "When programs get complicated, you'll want additional tests to verify the end-to-end interactions between your modules instead of only testing code in isolation.  This is the difference between **unit tests** and **integration tests**."
   ]
  },
  {
   "cell_type": "markdown",
   "metadata": {},
   "source": [
    "## Item 78:  Use Mocks to Test Code with Complex Dependencies"
   ]
  },
  {
   "cell_type": "markdown",
   "metadata": {},
   "source": [
    "A **mock** lets you provide expected responses for dependent functions, given a set of expected calls.  It's important not to confuse mocks with fakes.  A **fake** would provide most of the behavior of a class but with a simpler implementation.\n",
    "\n",
    "Python has the `unittest.mock` built-in module for creating mocks and using them in tests."
   ]
  },
  {
   "cell_type": "code",
   "execution_count": null,
   "metadata": {},
   "outputs": [],
   "source": []
  },
  {
   "cell_type": "markdown",
   "metadata": {},
   "source": [
    "## Item 79: Encapsulate Dependencies to Facilitate Mocking and Testing\n",
    "\n",
    "When unit tests require a lot of repeated boilerplate to set up mocks, one solution may be to encapsulate the functionality of dependencies into classes that are more easily mocked.  \n",
    "\n",
    "The `Mock` class of the `unittest.mock` built-in module simulates classes by returning a new mock, which can act as a mock method, for each attribute that is accessed.  \n",
    "\n",
    "For end-to-end tests, it's valuable to refactor your code to have more helper functions that can act as explicit seams to use for injecting mock dependencies in tests. "
   ]
  },
  {
   "cell_type": "markdown",
   "metadata": {},
   "source": [
    "## Item 80: Consider Interactive Debugging with pdb\n",
    "\n",
    "To initiate the debugger, all you have to do is call the `breakpoint` built-in function.\n",
    "\n",
    "At the Pdb prompt, you can type in the names of local variables to see their values printed out.  You can see a list of all local variables by calling the `locals` built-in function.  \n",
    "\n",
    "`where`: print the current execution stack.  This lets you figure out where you are in your program and how you arrived at the `breakpoint` trigger.\n",
    "\n",
    "`up`: Move your scope up the execution call stack to the caller of the current function.  This allows you to inspect the local variables in higher levels of the program that led to the breakpoint.\n",
    "\n",
    "`down`: Move your scope back down the execution call stack one level.\n",
    "\n",
    "you also have:  \n",
    "`step`  \n",
    "`next`  \n",
    "`return`  \n",
    "`continue`  \n",
    "`quit`"
   ]
  },
  {
   "cell_type": "code",
   "execution_count": 10,
   "metadata": {},
   "outputs": [
    {
     "name": "stdout",
     "output_type": "stream",
     "text": [
      "> <ipython-input-10-e4bfaaef2e92>(10)compute_rmse()\n",
      "-> total_err_2 += err_2\n",
      "(Pdb) quit\n"
     ]
    },
    {
     "ename": "BdbQuit",
     "evalue": "",
     "output_type": "error",
     "traceback": [
      "\u001b[0;31m---------------------------------------------------------------------------\u001b[0m",
      "\u001b[0;31mBdbQuit\u001b[0m                                   Traceback (most recent call last)",
      "\u001b[0;32m<ipython-input-10-e4bfaaef2e92>\u001b[0m in \u001b[0;36m<module>\u001b[0;34m\u001b[0m\n\u001b[1;32m     15\u001b[0m     \u001b[0;32mreturn\u001b[0m \u001b[0mrmse\u001b[0m\u001b[0;34m\u001b[0m\u001b[0;34m\u001b[0m\u001b[0m\n\u001b[1;32m     16\u001b[0m \u001b[0;34m\u001b[0m\u001b[0m\n\u001b[0;32m---> 17\u001b[0;31m result = compute_rmse(\n\u001b[0m\u001b[1;32m     18\u001b[0m     \u001b[0;34m[\u001b[0m\u001b[0;36m1.8\u001b[0m\u001b[0;34m,\u001b[0m \u001b[0;36m1.7\u001b[0m\u001b[0;34m,\u001b[0m \u001b[0;36m3.2\u001b[0m\u001b[0;34m,\u001b[0m \u001b[0;36m6\u001b[0m\u001b[0;34m]\u001b[0m\u001b[0;34m,\u001b[0m\u001b[0;34m\u001b[0m\u001b[0;34m\u001b[0m\u001b[0m\n\u001b[1;32m     19\u001b[0m     [2, 1.5, 3, 5])\n",
      "\u001b[0;32m<ipython-input-10-e4bfaaef2e92>\u001b[0m in \u001b[0;36mcompute_rmse\u001b[0;34m(observed, ideal)\u001b[0m\n\u001b[1;32m      8\u001b[0m         \u001b[0merr_2\u001b[0m \u001b[0;34m=\u001b[0m \u001b[0;34m(\u001b[0m\u001b[0mgot\u001b[0m \u001b[0;34m-\u001b[0m \u001b[0mwanted\u001b[0m\u001b[0;34m)\u001b[0m \u001b[0;34m**\u001b[0m \u001b[0;36m2\u001b[0m\u001b[0;34m\u001b[0m\u001b[0;34m\u001b[0m\u001b[0m\n\u001b[1;32m      9\u001b[0m         \u001b[0mbreakpoint\u001b[0m\u001b[0;34m(\u001b[0m\u001b[0;34m)\u001b[0m\u001b[0;34m\u001b[0m\u001b[0;34m\u001b[0m\u001b[0m\n\u001b[0;32m---> 10\u001b[0;31m         \u001b[0mtotal_err_2\u001b[0m \u001b[0;34m+=\u001b[0m \u001b[0merr_2\u001b[0m\u001b[0;34m\u001b[0m\u001b[0;34m\u001b[0m\u001b[0m\n\u001b[0m\u001b[1;32m     11\u001b[0m         \u001b[0mcount\u001b[0m \u001b[0;34m+=\u001b[0m \u001b[0;36m1\u001b[0m\u001b[0;34m\u001b[0m\u001b[0;34m\u001b[0m\u001b[0m\n\u001b[1;32m     12\u001b[0m \u001b[0;34m\u001b[0m\u001b[0m\n",
      "\u001b[0;32m<ipython-input-10-e4bfaaef2e92>\u001b[0m in \u001b[0;36mcompute_rmse\u001b[0;34m(observed, ideal)\u001b[0m\n\u001b[1;32m      8\u001b[0m         \u001b[0merr_2\u001b[0m \u001b[0;34m=\u001b[0m \u001b[0;34m(\u001b[0m\u001b[0mgot\u001b[0m \u001b[0;34m-\u001b[0m \u001b[0mwanted\u001b[0m\u001b[0;34m)\u001b[0m \u001b[0;34m**\u001b[0m \u001b[0;36m2\u001b[0m\u001b[0;34m\u001b[0m\u001b[0;34m\u001b[0m\u001b[0m\n\u001b[1;32m      9\u001b[0m         \u001b[0mbreakpoint\u001b[0m\u001b[0;34m(\u001b[0m\u001b[0;34m)\u001b[0m\u001b[0;34m\u001b[0m\u001b[0;34m\u001b[0m\u001b[0m\n\u001b[0;32m---> 10\u001b[0;31m         \u001b[0mtotal_err_2\u001b[0m \u001b[0;34m+=\u001b[0m \u001b[0merr_2\u001b[0m\u001b[0;34m\u001b[0m\u001b[0;34m\u001b[0m\u001b[0m\n\u001b[0m\u001b[1;32m     11\u001b[0m         \u001b[0mcount\u001b[0m \u001b[0;34m+=\u001b[0m \u001b[0;36m1\u001b[0m\u001b[0;34m\u001b[0m\u001b[0;34m\u001b[0m\u001b[0m\n\u001b[1;32m     12\u001b[0m \u001b[0;34m\u001b[0m\u001b[0m\n",
      "\u001b[0;32m/usr/lib/python3.8/bdb.py\u001b[0m in \u001b[0;36mtrace_dispatch\u001b[0;34m(self, frame, event, arg)\u001b[0m\n\u001b[1;32m     86\u001b[0m             \u001b[0;32mreturn\u001b[0m \u001b[0;31m# None\u001b[0m\u001b[0;34m\u001b[0m\u001b[0;34m\u001b[0m\u001b[0m\n\u001b[1;32m     87\u001b[0m         \u001b[0;32mif\u001b[0m \u001b[0mevent\u001b[0m \u001b[0;34m==\u001b[0m \u001b[0;34m'line'\u001b[0m\u001b[0;34m:\u001b[0m\u001b[0;34m\u001b[0m\u001b[0;34m\u001b[0m\u001b[0m\n\u001b[0;32m---> 88\u001b[0;31m             \u001b[0;32mreturn\u001b[0m \u001b[0mself\u001b[0m\u001b[0;34m.\u001b[0m\u001b[0mdispatch_line\u001b[0m\u001b[0;34m(\u001b[0m\u001b[0mframe\u001b[0m\u001b[0;34m)\u001b[0m\u001b[0;34m\u001b[0m\u001b[0;34m\u001b[0m\u001b[0m\n\u001b[0m\u001b[1;32m     89\u001b[0m         \u001b[0;32mif\u001b[0m \u001b[0mevent\u001b[0m \u001b[0;34m==\u001b[0m \u001b[0;34m'call'\u001b[0m\u001b[0;34m:\u001b[0m\u001b[0;34m\u001b[0m\u001b[0;34m\u001b[0m\u001b[0m\n\u001b[1;32m     90\u001b[0m             \u001b[0;32mreturn\u001b[0m \u001b[0mself\u001b[0m\u001b[0;34m.\u001b[0m\u001b[0mdispatch_call\u001b[0m\u001b[0;34m(\u001b[0m\u001b[0mframe\u001b[0m\u001b[0;34m,\u001b[0m \u001b[0marg\u001b[0m\u001b[0;34m)\u001b[0m\u001b[0;34m\u001b[0m\u001b[0;34m\u001b[0m\u001b[0m\n",
      "\u001b[0;32m/usr/lib/python3.8/bdb.py\u001b[0m in \u001b[0;36mdispatch_line\u001b[0;34m(self, frame)\u001b[0m\n\u001b[1;32m    111\u001b[0m         \u001b[0;32mif\u001b[0m \u001b[0mself\u001b[0m\u001b[0;34m.\u001b[0m\u001b[0mstop_here\u001b[0m\u001b[0;34m(\u001b[0m\u001b[0mframe\u001b[0m\u001b[0;34m)\u001b[0m \u001b[0;32mor\u001b[0m \u001b[0mself\u001b[0m\u001b[0;34m.\u001b[0m\u001b[0mbreak_here\u001b[0m\u001b[0;34m(\u001b[0m\u001b[0mframe\u001b[0m\u001b[0;34m)\u001b[0m\u001b[0;34m:\u001b[0m\u001b[0;34m\u001b[0m\u001b[0;34m\u001b[0m\u001b[0m\n\u001b[1;32m    112\u001b[0m             \u001b[0mself\u001b[0m\u001b[0;34m.\u001b[0m\u001b[0muser_line\u001b[0m\u001b[0;34m(\u001b[0m\u001b[0mframe\u001b[0m\u001b[0;34m)\u001b[0m\u001b[0;34m\u001b[0m\u001b[0;34m\u001b[0m\u001b[0m\n\u001b[0;32m--> 113\u001b[0;31m             \u001b[0;32mif\u001b[0m \u001b[0mself\u001b[0m\u001b[0;34m.\u001b[0m\u001b[0mquitting\u001b[0m\u001b[0;34m:\u001b[0m \u001b[0;32mraise\u001b[0m \u001b[0mBdbQuit\u001b[0m\u001b[0;34m\u001b[0m\u001b[0;34m\u001b[0m\u001b[0m\n\u001b[0m\u001b[1;32m    114\u001b[0m         \u001b[0;32mreturn\u001b[0m \u001b[0mself\u001b[0m\u001b[0;34m.\u001b[0m\u001b[0mtrace_dispatch\u001b[0m\u001b[0;34m\u001b[0m\u001b[0;34m\u001b[0m\u001b[0m\n\u001b[1;32m    115\u001b[0m \u001b[0;34m\u001b[0m\u001b[0m\n",
      "\u001b[0;31mBdbQuit\u001b[0m: "
     ]
    }
   ],
   "source": [
    "import math\n",
    "\n",
    "def compute_rmse(observed, ideal):\n",
    "    total_err_2 = 0\n",
    "    count = 0\n",
    "    \n",
    "    for got, wanted in zip(observed, ideal):\n",
    "        err_2 = (got - wanted) ** 2\n",
    "        breakpoint()\n",
    "        total_err_2 += err_2\n",
    "        count += 1\n",
    "        \n",
    "    mean_err = total_err_2 / count\n",
    "    rmse = math.sqrt(mean_err)\n",
    "    return rmse\n",
    "\n",
    "result = compute_rmse(\n",
    "    [1.8, 1.7, 3.2, 6],\n",
    "    [2, 1.5, 3, 5])\n",
    "\n",
    "print(result)"
   ]
  },
  {
   "cell_type": "markdown",
   "metadata": {},
   "source": [
    "## Item 81: Use `tracemalloc` to Understand Memory Usage and Leaks\n",
    "\n",
    "Memory management in the default implementation of Python, CPython, uses reference counting.  This ensure that as soon as all references to an object have expired, the referenced object is also cleared from memory.  `tracemalloc` makes it possible to connect an object back to where it was allocated.  You use it by taking before and after snapshops of memory usage and comparing them to see what's changed."
   ]
  },
  {
   "cell_type": "code",
   "execution_count": null,
   "metadata": {},
   "outputs": [],
   "source": []
  }
 ],
 "metadata": {
  "kernelspec": {
   "display_name": "Python 3",
   "language": "python",
   "name": "python3"
  },
  "language_info": {
   "codemirror_mode": {
    "name": "ipython",
    "version": 3
   },
   "file_extension": ".py",
   "mimetype": "text/x-python",
   "name": "python",
   "nbconvert_exporter": "python",
   "pygments_lexer": "ipython3",
   "version": "3.8.10"
  }
 },
 "nbformat": 4,
 "nbformat_minor": 4
}
