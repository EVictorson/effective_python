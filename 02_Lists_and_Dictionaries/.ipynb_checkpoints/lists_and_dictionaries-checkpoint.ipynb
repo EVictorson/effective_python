{
 "cells": [
  {
   "cell_type": "markdown",
   "metadata": {},
   "source": [
    "## Item 11: Know How to Slice Sequences ##\n",
    "\n",
    "Python includes a syntax for *slicing* sequences into pieces.  Slicing allow syou to access a subset of a sequence's items with minimal effort."
   ]
  },
  {
   "cell_type": "code",
   "execution_count": 20,
   "metadata": {},
   "outputs": [
    {
     "name": "stdout",
     "output_type": "stream",
     "text": [
      "Middle two:  ['d', 'e']\n",
      "All but ends:  ['b', 'c', 'd', 'e', 'f', 'g']\n"
     ]
    }
   ],
   "source": [
    "a = ['a', 'b', 'c', 'd', 'e', 'f', 'g', 'h']\n",
    "print('Middle two: ', a[3:5])\n",
    "print('All but ends: ', a[1:7])"
   ]
  },
  {
   "cell_type": "code",
   "execution_count": 21,
   "metadata": {},
   "outputs": [
    {
     "name": "stdout",
     "output_type": "stream",
     "text": [
      "a[:] : ['a', 'b', 'c', 'd', 'e', 'f', 'g', 'h']\n",
      "a[:5] : ['a', 'b', 'c', 'd', 'e']\n",
      "a[:-1] : ['a', 'b', 'c', 'd', 'e', 'f', 'g']\n",
      "a[4:] : ['e', 'f', 'g', 'h']\n",
      "a[-3:] : ['f', 'g', 'h']\n",
      "a[2:5] : ['c', 'd', 'e']\n",
      "a[2:-1] : ['c', 'd', 'e', 'f', 'g']\n",
      "a[-3:-1] : ['f', 'g']\n",
      "\n",
      "Before ['a', 'b', 'c', 'd', 'e', 'f', 'g', 'h']\n",
      "After ['a', 'b', 99, 22, 14, 'h']\n"
     ]
    }
   ],
   "source": [
    "# When slicing from the state of a list, you should leave \n",
    "# out the zero index to reduce visual noise:\n",
    "\n",
    "assert a[:5] == a[0:5]\n",
    "\n",
    "# when slicing to the end of a list, you should leave\n",
    "# out the final index because it's redundant:\n",
    "\n",
    "assert a[5:] == a[5:len(a)]\n",
    "\n",
    "print(f'a[:] : {a[:]}')\n",
    "print(f'a[:5] : {a[:5]}')\n",
    "print(f'a[:-1] : {a[:-1]}')\n",
    "print(f'a[4:] : {a[4:]}')\n",
    "print(f'a[-3:] : {a[-3:]}')\n",
    "print(f'a[2:5] : {a[2:5]}')\n",
    "print(f'a[2:-1] : {a[2:-1]}')\n",
    "print(f'a[-3:-1] : {a[-3:-1]}')\n",
    "\n",
    "# When used in assignments, slices replace the specified range in the original list.\n",
    "\n",
    "print('\\nBefore', a)\n",
    "a[2:7] = [99, 22, 14]\n",
    "print('After', a)"
   ]
  },
  {
   "cell_type": "markdown",
   "metadata": {},
   "source": [
    "## Item 12: Avoid Striding and Slicing in a Single Expression ##\n",
    "\n",
    "Python has special syntax for the stride of a slice in the form `somelist[start:end:stride]`.  This lets you take every nth item when slicing a sequence."
   ]
  },
  {
   "cell_type": "code",
   "execution_count": 27,
   "metadata": {},
   "outputs": [
    {
     "name": "stdout",
     "output_type": "stream",
     "text": [
      "['red', 'yellow', 'blue']\n",
      "['orange', 'green', 'purple']\n",
      "\n",
      "x[2::2]: ['yellow', 'blue']\n",
      "x[-2::-2] : ['blue']\n",
      "x[-2:2:-2] : ['blue']\n",
      "x[2:2:-2] : []\n"
     ]
    }
   ],
   "source": [
    "# Using the stride makes it easy to group by even and odd indices in a list:\n",
    "\n",
    "x = ['red', 'orange', 'yellow', 'green', 'blue', 'purple']\n",
    "\n",
    "odds = x[::2]\n",
    "evens = x[1::2]\n",
    "print(odds)\n",
    "print(evens)\n",
    "\n",
    "# The issue is that if you slice and stride at the same time things can get confusing:\n",
    "print(f'\\nx[2::2]: {x[2::2]}')\n",
    "print(f'x[-2::-2] : {x[-2::2]}')\n",
    "print(f'x[-2:2:-2] : {x[-2:2:-2]}')\n",
    "print(f'x[2:2:-2] : {x[2:2:-2]}')"
   ]
  },
  {
   "cell_type": "markdown",
   "metadata": {},
   "source": [
    "## Item 13: Prefer Catch-All Unpacking Over Slicing ##\n",
    "\n",
    "One limitation of basic unpacking (see Item 6) is that you must know the length of the sequences you're unpacking in advance.  To better handle situations where you do not know the length in advance, Python also supports catch-all unpacking through a *starred expression*.  This syntax allows one part of the unpacking assignment to receive all values that didn't match any other part of the unpacking pattern.  Starred expressions become list instances in all cases."
   ]
  },
  {
   "cell_type": "code",
   "execution_count": 28,
   "metadata": {},
   "outputs": [
    {
     "ename": "ValueError",
     "evalue": "too many values to unpack (expected 2)",
     "output_type": "error",
     "traceback": [
      "\u001b[0;31m---------------------------------------------------------------------------\u001b[0m",
      "\u001b[0;31mValueError\u001b[0m                                Traceback (most recent call last)",
      "\u001b[0;32m<ipython-input-28-99634ca0e408>\u001b[0m in \u001b[0;36m<module>\u001b[0;34m\u001b[0m\n\u001b[1;32m      1\u001b[0m \u001b[0mcar_ages\u001b[0m \u001b[0;34m=\u001b[0m \u001b[0;34m[\u001b[0m\u001b[0;36m0\u001b[0m\u001b[0;34m,\u001b[0m \u001b[0;36m9\u001b[0m\u001b[0;34m,\u001b[0m \u001b[0;36m4\u001b[0m\u001b[0;34m,\u001b[0m \u001b[0;36m8\u001b[0m\u001b[0;34m,\u001b[0m \u001b[0;36m7\u001b[0m\u001b[0;34m,\u001b[0m \u001b[0;36m20\u001b[0m\u001b[0;34m,\u001b[0m \u001b[0;36m19\u001b[0m\u001b[0;34m,\u001b[0m \u001b[0;36m1\u001b[0m\u001b[0;34m,\u001b[0m \u001b[0;36m6\u001b[0m\u001b[0;34m,\u001b[0m \u001b[0;36m15\u001b[0m\u001b[0;34m]\u001b[0m\u001b[0;34m\u001b[0m\u001b[0;34m\u001b[0m\u001b[0m\n\u001b[1;32m      2\u001b[0m \u001b[0mcar_ages_descending\u001b[0m \u001b[0;34m=\u001b[0m \u001b[0msorted\u001b[0m\u001b[0;34m(\u001b[0m\u001b[0mcar_ages\u001b[0m\u001b[0;34m,\u001b[0m \u001b[0mreverse\u001b[0m\u001b[0;34m=\u001b[0m\u001b[0;32mTrue\u001b[0m\u001b[0;34m)\u001b[0m\u001b[0;34m\u001b[0m\u001b[0;34m\u001b[0m\u001b[0m\n\u001b[0;32m----> 3\u001b[0;31m \u001b[0moldest\u001b[0m\u001b[0;34m,\u001b[0m \u001b[0msecond_oldest\u001b[0m \u001b[0;34m=\u001b[0m \u001b[0mcar_ages_descending\u001b[0m\u001b[0;34m\u001b[0m\u001b[0;34m\u001b[0m\u001b[0m\n\u001b[0m",
      "\u001b[0;31mValueError\u001b[0m: too many values to unpack (expected 2)"
     ]
    }
   ],
   "source": [
    "car_ages = [0, 9, 4, 8, 7, 20, 19, 1, 6, 15]\n",
    "car_ages_descending = sorted(car_ages, reverse=True)\n",
    "oldest, second_oldest = car_ages_descending"
   ]
  },
  {
   "cell_type": "code",
   "execution_count": 31,
   "metadata": {},
   "outputs": [
    {
     "name": "stdout",
     "output_type": "stream",
     "text": [
      "20 19 [15, 9, 8, 7, 6, 4, 1, 0]\n",
      "20 0 [19, 15, 9, 8, 7, 6, 4, 1]\n",
      "0 1 [20, 19, 15, 9, 8, 7, 6, 4]\n"
     ]
    }
   ],
   "source": [
    "oldest, second_oldest, *others = car_ages_descending\n",
    "print(oldest, second_oldest, others)\n",
    "\n",
    "oldest, *others, youngest = car_ages_descending\n",
    "print(oldest, youngest, others)\n",
    "\n",
    "*others, second_youngest, youngest = car_ages_descending\n",
    "print(youngest, second_youngest, others)\n"
   ]
  },
  {
   "cell_type": "markdown",
   "metadata": {},
   "source": [
    "## Item 14: Sort by Complex Criteria Using the key Parameter ##\n",
    "\n",
    "The `list` built-in type provides a `sort` method for ordering the items in a `list` instance based on a variety of criteria.  By default, `sort` will order a list's contents by the natural ascending order of the items.  The sort method works for nearly all built-in types that have a natural ordering to them.  But what does `sort` do with objects?  \n",
    "\n",
    "You would either need to define the special comparison operators for sorting (if there's an easy / meaningful way to sort them, but in many cases your objects will need to support multiple orderings, in which case defining a natural ordering really doesn't make sense), or if there's an attribute on the object you'd like to use for sorting you can pass that key into the sort method (which is expected to be a function).  The key function is passed a single argument, which is an item fro mthe list that is being sorted. "
   ]
  },
  {
   "cell_type": "code",
   "execution_count": 32,
   "metadata": {},
   "outputs": [
    {
     "name": "stdout",
     "output_type": "stream",
     "text": [
      "[11, 68, 70, 86, 93]\n"
     ]
    }
   ],
   "source": [
    "numbers = [93, 86, 11, 68, 70]\n",
    "numbers.sort()\n",
    "print(numbers)"
   ]
  },
  {
   "cell_type": "code",
   "execution_count": 35,
   "metadata": {},
   "outputs": [
    {
     "ename": "TypeError",
     "evalue": "'<' not supported between instances of 'Tool' and 'Tool'",
     "output_type": "error",
     "traceback": [
      "\u001b[0;31m---------------------------------------------------------------------------\u001b[0m",
      "\u001b[0;31mTypeError\u001b[0m                                 Traceback (most recent call last)",
      "\u001b[0;32m<ipython-input-35-831fb1742f08>\u001b[0m in \u001b[0;36m<module>\u001b[0;34m\u001b[0m\n\u001b[1;32m     14\u001b[0m ]\n\u001b[1;32m     15\u001b[0m \u001b[0;34m\u001b[0m\u001b[0m\n\u001b[0;32m---> 16\u001b[0;31m \u001b[0mtools\u001b[0m\u001b[0;34m.\u001b[0m\u001b[0msort\u001b[0m\u001b[0;34m(\u001b[0m\u001b[0;34m)\u001b[0m\u001b[0;34m\u001b[0m\u001b[0;34m\u001b[0m\u001b[0m\n\u001b[0m",
      "\u001b[0;31mTypeError\u001b[0m: '<' not supported between instances of 'Tool' and 'Tool'"
     ]
    }
   ],
   "source": [
    "class Tool:\n",
    "    def __init__(self, name, weight):\n",
    "        self.name = name\n",
    "        self.weight = weight\n",
    "        \n",
    "    def __repr__(self):\n",
    "        return f'Tool({self.name!r}, {self.weight})'\n",
    "    \n",
    "tools = [\n",
    "    Tool('level', 3.5),\n",
    "    Tool('hammer', 1.25),\n",
    "    Tool('screwdriver', 0.5), \n",
    "    Tool('chisel', 0.25)\n",
    "]\n",
    "\n",
    "# This will barf because we haven't defined any of the special methods for comparisons\n",
    "tools.sort()"
   ]
  },
  {
   "cell_type": "code",
   "execution_count": 39,
   "metadata": {},
   "outputs": [
    {
     "name": "stdout",
     "output_type": "stream",
     "text": [
      "Unsorted: [Tool('chisel', 0.25), Tool('screwdriver', 0.5), Tool('hammer', 1.25), Tool('level', 3.5)]\n",
      "\n",
      "Sorted by name:  [Tool('chisel', 0.25), Tool('hammer', 1.25), Tool('level', 3.5), Tool('screwdriver', 0.5)]\n",
      "\n",
      "Sorted by weight:  [Tool('chisel', 0.25), Tool('screwdriver', 0.5), Tool('hammer', 1.25), Tool('level', 3.5)]\n"
     ]
    }
   ],
   "source": [
    "# To sort classes by attributes, use a lambda function to pass in a key to sort by:\n",
    "\n",
    "print('Unsorted:', repr(tools))\n",
    "tools.sort(key=lambda x: x.name)\n",
    "print('\\nSorted by name: ', tools)\n",
    "tools.sort(key=lambda x: x.weight)\n",
    "print('\\nSorted by weight: ', tools)"
   ]
  },
  {
   "cell_type": "markdown",
   "metadata": {},
   "source": [
    "## Item 15: Be Cautious When Relying on dict Insertion Ordering ##\n",
    "\n",
    "In Python 3.5 and before, iterating over a dict would return keys in arbitrary order.  The order of iteration would not match the order in which the items were inserted.  \n",
    "Starting with Python 3.6, and officially part of the Python specification in version 3.7, dictionaries will preserve insertion order.  \n",
    "\n",
    "However, because Python is not statically typed, and most code relies on *duck typing* - where an object's behavior is its de facto type - instead of rigid class hierarchies,insertion ordering behavior might not be present when handling custom defined containers that act like dictionaries but are slightly different.  \n",
    "\n",
    "Basically, because python is *duck typed*, things that act like dictionaries may not have insertion ordering, so don't rely on it."
   ]
  },
  {
   "cell_type": "markdown",
   "metadata": {},
   "source": [
    "## Item 16: Prefer get Over in and KeyError to Handle Missing Dictionary Keys ##\n",
    "\n",
    "The three fundamental operations for interacting with dictionaries are accessing, assigning, and deleting keys and their associated values.  The contents of dictionaries are dynamic, and thus it's entirely possible - even likely - that when you try to access or delete a key, it won't already be present.  \n",
    "\n",
    "Let's define a dictionary of bread types and the number of times someone has said it was their favorite type.\n",
    "\n",
    "To increment the counter for a new vote, I need to see if the key exists, insert the key with a default counter value of zero if it's missing, and then increment the counter's value.  This requires accessing the key two times and assigning it once.  \n"
   ]
  },
  {
   "cell_type": "code",
   "execution_count": 47,
   "metadata": {},
   "outputs": [
    {
     "data": {
      "text/plain": [
       "{'pumpernickel': 2, 'sourdough': 1, 'wheat': 1}"
      ]
     },
     "execution_count": 47,
     "metadata": {},
     "output_type": "execute_result"
    }
   ],
   "source": [
    "counters = {\n",
    "    'pumpernickel': 2,\n",
    "    'sourdough': 1\n",
    "}\n",
    "\n",
    "key = 'wheat'\n",
    "if key in counters:\n",
    "    count = counters[key]\n",
    "else:\n",
    "    count = 0\n",
    "    \n",
    "counters[key] = count + 1\n",
    "\n",
    "counters"
   ]
  },
  {
   "cell_type": "markdown",
   "metadata": {},
   "source": [
    "Another way to accomplish this same behavior is by relyin on how dictionaries raise a KeyError exception when you try to get the value for a key that doesn't exist:"
   ]
  },
  {
   "cell_type": "code",
   "execution_count": 48,
   "metadata": {},
   "outputs": [
    {
     "data": {
      "text/plain": [
       "{'pumpernickel': 2, 'sourdough': 1, 'wheat': 1}"
      ]
     },
     "execution_count": 48,
     "metadata": {},
     "output_type": "execute_result"
    }
   ],
   "source": [
    "counters = {\n",
    "    'pumpernickel': 2,\n",
    "    'sourdough': 1\n",
    "}\n",
    "\n",
    "try:\n",
    "    count = counters[key]\n",
    "except KeyError:\n",
    "    count = 0\n",
    "    \n",
    "counters[key] = count + 1\n",
    "\n",
    "counters"
   ]
  },
  {
   "cell_type": "markdown",
   "metadata": {},
   "source": [
    "This flow of fetching a key that exists or returning a default value is so common that the `dict` built-in type provides the `get` method to accomplish this task.  The second parameter to `get` is the default value to return in the case that the key - the first parameter - isn't present.\n"
   ]
  },
  {
   "cell_type": "code",
   "execution_count": 49,
   "metadata": {},
   "outputs": [
    {
     "data": {
      "text/plain": [
       "{'pumpernickel': 2, 'sourdough': 1, 'wheat': 1}"
      ]
     },
     "execution_count": 49,
     "metadata": {},
     "output_type": "execute_result"
    }
   ],
   "source": [
    "counters = {\n",
    "    'pumpernickel': 2,\n",
    "    'sourdough': 1\n",
    "}\n",
    "\n",
    "count = counters.get(key, 0)\n",
    "counters[key] = count + 1\n",
    "\n",
    "counters"
   ]
  },
  {
   "cell_type": "markdown",
   "metadata": {},
   "source": [
    "#### Note: if you're maintaining dicitonaries of counters like this, it's worth considering the `Counter` class from the `collections` built-in module, which provides most of the facilities you are likey to need.####"
   ]
  },
  {
   "cell_type": "code",
   "execution_count": null,
   "metadata": {},
   "outputs": [],
   "source": []
  }
 ],
 "metadata": {
  "kernelspec": {
   "display_name": "Python 3",
   "language": "python",
   "name": "python3"
  },
  "language_info": {
   "codemirror_mode": {
    "name": "ipython",
    "version": 3
   },
   "file_extension": ".py",
   "mimetype": "text/x-python",
   "name": "python",
   "nbconvert_exporter": "python",
   "pygments_lexer": "ipython3",
   "version": "3.8.10"
  }
 },
 "nbformat": 4,
 "nbformat_minor": 4
}
