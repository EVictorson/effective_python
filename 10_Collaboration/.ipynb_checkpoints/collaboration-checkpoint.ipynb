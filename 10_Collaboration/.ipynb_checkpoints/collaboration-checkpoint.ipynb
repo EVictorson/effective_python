{
 "cells": [
  {
   "cell_type": "markdown",
   "metadata": {},
   "source": [
    "# Chapter 10: Collaboration"
   ]
  },
  {
   "cell_type": "markdown",
   "metadata": {},
   "source": [
    "## Item 82: Know Where to Find Community-Built modules\n",
    "\n",
    "The Python PAckage Index (PyPi) is a great palce to look for code that will solve many of your problems.  To use the PyPi you need to use the command-line tool `pip` (a recursive acronym for \"pip installs packages\")."
   ]
  },
  {
   "cell_type": "markdown",
   "metadata": {},
   "source": [
    "## Item 83: Use Virtual Environments for Isolated and Reproducible Dependencies  \n",
    "\n",
    "Problems can arise from transitive dependencies: the packages that packages you install depend on.  For example, both the sphinx package and flask package depend on the Jinja2 package.  If one of these packages update and require a newer version of Jinja2 that the other doesn't support, you're gonna have a bad time.\n",
    "\n",
    "A dependency conflict can arise as Sphinx and flask diverge over time.  If you update your global version of Jinja2 with `python3 -m pip install --upgrade Jinja2`, you may find that Sphinx breaks, while flask keeps working.  \n",
    "\n",
    "The solution to all of these problems is using a tool called `venv` which provides **virtual environments**.  Since Python 3.4, pop and the venv module have been available by default along with the Python installation (accessible with `python -m venv`).\n",
    "\n",
    "`venv` allows you to create isolated versions of the Python environment.  Using `venv`, you can have many different versions of the same package installed on the same system at the same time without conflicts."
   ]
  },
  {
   "cell_type": "markdown",
   "metadata": {},
   "source": [
    "## Item 84: Write Docstings for Every Function, Class, and Module\n",
    "\n",
    "Documenting a function:"
   ]
  },
  {
   "cell_type": "code",
   "execution_count": 1,
   "metadata": {},
   "outputs": [],
   "source": [
    "def palindrome(word):\n",
    "    \"\"\"Return True if the given word is a palindrome.\"\"\"\n",
    "    return word == word[::-1]\n",
    "\n",
    "assert palindrome('tacocat')\n",
    "assert not palindrome('banana')"
   ]
  },
  {
   "cell_type": "markdown",
   "metadata": {},
   "source": [
    "Documenting a module, the goal is to introduce the module and its contents.  The first line of the docstring should be a single sentence describing the module's purpose.  The paragraphs that follow should contain the details that all users of the module should know about its operation:"
   ]
  },
  {
   "cell_type": "code",
   "execution_count": 2,
   "metadata": {},
   "outputs": [
    {
     "data": {
      "text/plain": [
       "\"Library for finding linguistic patterns in words.\\nTesting how words relate to each other can be tricky sometimes!\\nThis module provides easy ways to determine when words you've\\nfound have special properties.\\nAvailable functions:\\n- palindrome: Determine if a word is a palindrome.\\n- check_anagram: Determine if two words are anagrams.\\n...\\n\""
      ]
     },
     "execution_count": 2,
     "metadata": {},
     "output_type": "execute_result"
    }
   ],
   "source": [
    "\"\"\"Library for finding linguistic patterns in words.\n",
    "Testing how words relate to each other can be tricky sometimes!\n",
    "This module provides easy ways to determine when words you've\n",
    "found have special properties.\n",
    "Available functions:\n",
    "- palindrome: Determine if a word is a palindrome.\n",
    "- check_anagram: Determine if two words are anagrams.\n",
    "...\n",
    "\"\"\""
   ]
  },
  {
   "cell_type": "markdown",
   "metadata": {},
   "source": [
    "Documenting classes:"
   ]
  },
  {
   "cell_type": "code",
   "execution_count": 3,
   "metadata": {},
   "outputs": [],
   "source": [
    "class Player:\n",
    "    \"\"\"Represents a player of the game.\n",
    "    Subclasses may override the 'tick' method to provide\n",
    "    custom animations for the player's movement depending\n",
    "    on their power level, etc.\n",
    "    Public attributes:\n",
    "    - power: Unused power-ups (float between 0 and 1).\n",
    "    - coins: Coins found during the level (integer).\n",
    "    \"\"\""
   ]
  },
  {
   "cell_type": "markdown",
   "metadata": {},
   "source": [
    "Documenting Functions:"
   ]
  },
  {
   "cell_type": "code",
   "execution_count": 6,
   "metadata": {},
   "outputs": [],
   "source": [
    "import itertools\n",
    "def find_anagrams(word, dictionary):\n",
    "    \"\"\"Find all anagrams for a word.\n",
    "    This function only runs as fast as the test for\n",
    "    membership in the 'dictionary' container.\n",
    "    Args:\n",
    "        word: String of the target word.\n",
    "        dictionary: collections.abc.Container with all\n",
    "            strings that are known to be actual words.\n",
    "    Returns:\n",
    "        List of anagrams that were found. Empty if\n",
    "        none were found.\n",
    "    \"\"\"\n",
    "    permutations = itertools.permutations(word, len(word))\n",
    "    possible = (''.join(x) for x in permutations)\n",
    "    found = {word for word in possible if word in dictionary}\n",
    "    return list(found)\n",
    "\n",
    "assert find_anagrams('pancakes', ['scanpeak']) == ['scanpeak']"
   ]
  },
  {
   "cell_type": "markdown",
   "metadata": {},
   "source": [
    "## Item 85:  Use Packages to Organize Modules and Provide Stable APIs\n",
    "\n",
    "**Packages** are modules that contain other modules.  In most cases, packages are defined by putting an empty file named `__init__.py` into a directory.  Once `__init__.py` is present, any other Python files in that directoy will be available for import, using a path relative to the directory.  \n",
    "\n",
    "The first use of packages is to help divide your modules into seprate namespaces.  \n",
    "\n",
    "One way to avoid imported name conflicts is to always access names by their highest unique module name.  \n",
    "\n",
    "The second use of packages in Python is to provide strict, stable APIs for external consumers."
   ]
  },
  {
   "cell_type": "markdown",
   "metadata": {},
   "source": [
    "## Item 86:  Consider Module-Scoped Code to Configure Deployment Environments\n",
    "\n",
    "A deployment environment is a configuration in which a program runs.  Every program has at least one deployment environment: the *production environment*.  Writing or modifying a program requries being able to run it on the computer you use for developing.  The configuration of your *development environment* may be very different from that of your *production environment*."
   ]
  },
  {
   "cell_type": "code",
   "execution_count": 7,
   "metadata": {},
   "outputs": [],
   "source": [
    "import sys\n",
    "\n",
    "class Win32Database:\n",
    "    pass\n",
    "\n",
    "class PosixDatabase:\n",
    "    pass\n",
    "\n",
    "if sys.platform.startswith('win32'):\n",
    "    Database = Win32Database\n",
    "else:\n",
    "    Database = PosixDatabase"
   ]
  },
  {
   "cell_type": "markdown",
   "metadata": {},
   "source": [
    "## Item 87: Define a Root `Exception` to Insulate Callers from APIs  \n",
    "\n",
    "When you're defining a module's API, the exceptions you raise are just as much a part of your interface as the functions and classes you define.  Having a root exception in a module makes it easy for consumers of an API to catch all of the exceptions that were raised deliberately.  "
   ]
  },
  {
   "cell_type": "code",
   "execution_count": 9,
   "metadata": {},
   "outputs": [
    {
     "name": "stderr",
     "output_type": "stream",
     "text": [
      "ERROR:root:Unexpected error\n",
      "Traceback (most recent call last):\n",
      "  File \"<ipython-input-9-7cbae4ab15f8>\", line 36, in <module>\n",
      "    weight = my_module.determine_weight(1, -1)\n",
      "  File \"<ipython-input-9-7cbae4ab15f8>\", line 29, in determine_weight\n",
      "    raise InvalidDensityError('Density must be positive')\n",
      "InvalidDensityError: Density must be positive\n"
     ]
    }
   ],
   "source": [
    "import logging\n",
    "\n",
    "class Error(Exception):\n",
    "    \"\"\"Base-class for all exceptions raised by this module.\"\"\"\n",
    "\n",
    "class InvalidDensityError(Error):\n",
    "    \"\"\"There was a problem with a provided density value.\"\"\"\n",
    "\n",
    "class InvalidVolumeError(Error):\n",
    "    \"\"\"There was a problem with the provided weight value.\"\"\"\n",
    "\n",
    "def determine_weight(volume, density):\n",
    "    if density < 0:\n",
    "        raise InvalidDensityError('Density must be positive')\n",
    "    if volume < 0:\n",
    "        raise InvalidVolumeError('Volume must be positive')\n",
    "    if volume == 0:\n",
    "        density / volume\n",
    "\n",
    "\n",
    "# Example 3\n",
    "class my_module:\n",
    "    Error = Error\n",
    "    InvalidDensityError = InvalidDensityError\n",
    "\n",
    "    @staticmethod\n",
    "    def determine_weight(volume, density):\n",
    "        if density < 0:\n",
    "            raise InvalidDensityError('Density must be positive')\n",
    "        if volume < 0:\n",
    "            raise InvalidVolumeError('Volume must be positive')\n",
    "        if volume == 0:\n",
    "            density / volume\n",
    "\n",
    "try:\n",
    "    weight = my_module.determine_weight(1, -1)\n",
    "except my_module.Error:\n",
    "    logging.exception('Unexpected error')\n",
    "else:\n",
    "    assert False"
   ]
  },
  {
   "cell_type": "markdown",
   "metadata": {},
   "source": [
    "## Item 88: Know How to Break Circular Dependencies\n",
    "\n",
    "The first approach is to change the order of imports.  \n",
    "\n",
    "A second approach to the circular imports problem is to have modules minimize side effects at import time.  I can have my modules only define functions, classes, and constants.  I avoid actually running any functions at import time.  Then, I have each module provide a `configure` function that I call once all the other modules have finished importing.  \n",
    "\n",
    "The third - and often simplest - solution is to use an `import` statement within a function or method.  This is called a **dynamic import** because the module import happens while the program is running, not while the program is first starting up and initailizing its modules."
   ]
  },
  {
   "cell_type": "markdown",
   "metadata": {},
   "source": [
    "## Item 89: Consider `warnings` to Refactor and Migrate Usage  \n",
    "\n",
    "Python provides the built-in `warnings` modules to programmatically inform other programmers that their code needs to be modified due to a change to an underlying library that they depend on.  "
   ]
  },
  {
   "cell_type": "code",
   "execution_count": 10,
   "metadata": {},
   "outputs": [
    {
     "name": "stdout",
     "output_type": "stream",
     "text": [
      "12.5 miles\n",
      "3000 miles\n",
      "1.8641182099494205 miles\n"
     ]
    }
   ],
   "source": [
    "def print_distance(speed, duration):\n",
    "    distance = speed * duration\n",
    "    print(f'{distance} miles')\n",
    "\n",
    "print_distance(5, 2.5)\n",
    "\n",
    "\n",
    "# Example 2\n",
    "print_distance(1000, 3)\n",
    "\n",
    "\n",
    "# Example 3\n",
    "CONVERSIONS = {\n",
    "    'mph': 1.60934 / 3600 * 1000,   # m/s\n",
    "    'hours': 3600,                  # seconds\n",
    "    'miles': 1.60934 * 1000,        # m\n",
    "    'meters': 1,                    # m\n",
    "    'm/s': 1,                       # m\n",
    "    'seconds': 1,                   # s\n",
    "}\n",
    "\n",
    "def convert(value, units):\n",
    "    rate = CONVERSIONS[units]\n",
    "    return rate * value\n",
    "\n",
    "def localize(value, units):\n",
    "    rate = CONVERSIONS[units]\n",
    "    return value / rate\n",
    "\n",
    "def print_distance(speed, duration, *,\n",
    "                   speed_units='mph',\n",
    "                   time_units='hours',\n",
    "                   distance_units='miles'):\n",
    "    norm_speed = convert(speed, speed_units)\n",
    "    norm_duration = convert(duration, time_units)\n",
    "    norm_distance = norm_speed * norm_duration\n",
    "    distance = localize(norm_distance, distance_units)\n",
    "    print(f'{distance} {distance_units}')\n",
    "\n",
    "\n",
    "# Example 4\n",
    "print_distance(1000, 3,\n",
    "               speed_units='meters',\n",
    "               time_units='seconds')\n",
    "\n",
    "\n",
    "# Example 5\n",
    "import warnings\n",
    "\n",
    "def print_distance(speed, duration, *,\n",
    "                   speed_units=None,\n",
    "                   time_units=None,\n",
    "                   distance_units=None):\n",
    "    if speed_units is None:\n",
    "        warnings.warn(\n",
    "            'speed_units required', DeprecationWarning)\n",
    "        speed_units = 'mph'\n",
    "\n",
    "    if time_units is None:\n",
    "        warnings.warn(\n",
    "            'time_units required', DeprecationWarning)\n",
    "        time_units = 'hours'\n",
    "\n",
    "    if distance_units is None:\n",
    "        warnings.warn(\n",
    "            'distance_units required', DeprecationWarning)\n",
    "        distance_units = 'miles'\n",
    "\n",
    "    norm_speed = convert(speed, speed_units)\n",
    "    norm_duration = convert(duration, time_units)\n",
    "    norm_distance = norm_speed * norm_duration\n",
    "    distance = localize(norm_distance, distance_units)\n",
    "    print(f'{distance} {distance_units}')\n",
    "\n",
    "    \n",
    "    "
   ]
  },
  {
   "cell_type": "code",
   "execution_count": 11,
   "metadata": {},
   "outputs": [
    {
     "name": "stdout",
     "output_type": "stream",
     "text": [
      "1.8641182099494205 miles\n",
      "<ipython-input-10-2784a58db5d3>:65: DeprecationWarning: distance_units required\n",
      "  warnings.warn(\n",
      "\n"
     ]
    }
   ],
   "source": [
    "import contextlib\n",
    "import io\n",
    "\n",
    "fake_stderr = io.StringIO()\n",
    "with contextlib.redirect_stderr(fake_stderr):\n",
    "    print_distance(1000, 3,\n",
    "                   speed_units='meters',\n",
    "                   time_units='seconds')\n",
    "\n",
    "print(fake_stderr.getvalue())\n",
    "\n",
    "\n",
    "# Example 7\n",
    "def require(name, value, default):\n",
    "    if value is not None:\n",
    "        return value\n",
    "    warnings.warn(\n",
    "        f'{name} will be required soon, update your code',\n",
    "        DeprecationWarning,\n",
    "        stacklevel=3)\n",
    "    return default\n",
    "\n",
    "def print_distance(speed, duration, *,\n",
    "                   speed_units=None,\n",
    "                   time_units=None,\n",
    "                   distance_units=None):\n",
    "    speed_units = require('speed_units', speed_units, 'mph')\n",
    "    time_units = require('time_units', time_units, 'hours')\n",
    "    distance_units = require(\n",
    "        'distance_units', distance_units, 'miles')\n",
    "\n",
    "    norm_speed = convert(speed, speed_units)\n",
    "    norm_duration = convert(duration, time_units)\n",
    "    norm_distance = norm_speed * norm_duration\n",
    "    distance = localize(norm_distance, distance_units)\n",
    "    print(f'{distance} {distance_units}')"
   ]
  },
  {
   "cell_type": "markdown",
   "metadata": {},
   "source": [
    "## Item 90: Consider Static Analysis via `typing` to Obviate Bugs\n",
    "\n",
    "The benefit of adding type information to a Python program is that you can run *static analysis* tools to ingest a program's source code and identify where bugs are most likely to occur.  The `typing` built-in module doesn't actually implement any of the type checking functionality itself.  It merely provides a common library for defining types, including generics, that can be applied to Python code and consumed by separate tools.  \n",
    "\n",
    "There are multiple implementations of static analysis tools for Pythong that use `typing`:\n",
    "`mypy`  \n",
    "`pytype`  \n",
    "`pyre`  \n",
    "\n",
    "These tools can be used to detect a large number of common errors before a program is ever run, which can provide an added layer of safety in addition to having good unit tests.  \n",
    "\n",
    "Parameter and variable type annotations are delineated with a colon (such as name: type).  Return value types are specified with `-> type` following the argument list.\n",
    "\n",
    "The `typing` module supports *option types*, which ensure that programs only interact with values after proper null checks have been performed.  "
   ]
  },
  {
   "cell_type": "code",
   "execution_count": null,
   "metadata": {},
   "outputs": [],
   "source": [
    "try:\n",
    "    class FirstClass:\n",
    "        def __init__(self, value: SecondClass) -> None:  # Breaks\n",
    "            self.value = value\n",
    "    \n",
    "    class SecondClass:\n",
    "        def __init__(self, value: int) -> None:\n",
    "            self.value = value\n",
    "    \n",
    "    second = SecondClass(5)\n",
    "    first = FirstClass(second)\n",
    "except:\n",
    "    logging.exception('Expected')\n",
    "else:\n",
    "    assert False"
   ]
  }
 ],
 "metadata": {
  "kernelspec": {
   "display_name": "Python 3",
   "language": "python",
   "name": "python3"
  },
  "language_info": {
   "codemirror_mode": {
    "name": "ipython",
    "version": 3
   },
   "file_extension": ".py",
   "mimetype": "text/x-python",
   "name": "python",
   "nbconvert_exporter": "python",
   "pygments_lexer": "ipython3",
   "version": "3.8.10"
  }
 },
 "nbformat": 4,
 "nbformat_minor": 4
}
