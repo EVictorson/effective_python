{
 "cells": [
  {
   "cell_type": "markdown",
   "metadata": {},
   "source": [
    "## Item 37: Compose Classes Instead of Nesting Many Levels of Built-in Types\n",
    "\n",
    "Let's say I want to record the grades of a set of students whose names aren't known in advance.  \n",
    "\n",
    "As soon as you realize that your bookkeeping is getting complicated, break it all out into classes.  You can then provide well-defined itnerfaces that better encapsulate your data.  This approach also enables you to create a layer of abstraction between your interfaces and your concrette implementations.  \n",
    "\n",
    "The `namedtuple` type in the `collections` built-in module allows you to define tiny, immutable data classes.  These classes can be constructed with positional or keyword arguments.  The fields are accessible with named attributes.  Having named attributes makes it easy to move from a `namedtuple` to a class later if the requirements change again and I need to, say, support mutability or behaviors in the simple data containers."
   ]
  },
  {
   "cell_type": "code",
   "execution_count": 25,
   "metadata": {},
   "outputs": [
    {
     "name": "stdout",
     "output_type": "stream",
     "text": [
      "80.25\n"
     ]
    }
   ],
   "source": [
    "from collections import namedtuple, defaultdict\n",
    "\n",
    "# named tuple to represent a simple grade\n",
    "Grade = namedtuple('Grade', ('score', 'weight'))\n",
    "\n",
    "class Subject:\n",
    "    \"\"\" Class to represent a single subject that contains a set of grades.\"\"\"\n",
    "    def __init__(self):\n",
    "        self._grades = []\n",
    "        \n",
    "    def report_grade(self, score, weight):\n",
    "        self._grades.append(Grade(score, weight))\n",
    "        \n",
    "    def average_grade(self):\n",
    "        total, total_weight = 0, 0\n",
    "        for grade in self._grades:\n",
    "            total += (grade.score * grade.weight)\n",
    "            total_weight += grade.weight\n",
    "        return total / total_weight\n",
    "    \n",
    "class Student:\n",
    "    \"\"\" Class to represent a set of subjects that are studied by a single student.\"\"\"\n",
    "    def __init__(self):\n",
    "        self._subjects = defaultdict(Subject)\n",
    "        \n",
    "    def get_subject(self, name):\n",
    "        return self._subjects[name]\n",
    "    \n",
    "    def average_grade(self):\n",
    "        total, count = 0, 0\n",
    "        for subject in self._subjects.values():\n",
    "            total += subject.average_grade()\n",
    "            count += 1\n",
    "            \n",
    "        return total / count\n",
    "    \n",
    "class GradeBook:\n",
    "    \"\"\" Class to represent a container for all of the students, keyed dynamically by their names.\"\"\"\n",
    "    def __init__(self):\n",
    "        self._students = defaultdict(Student)\n",
    "        \n",
    "    def get_student(self, name):\n",
    "        return self._students[name]\n",
    "    \n",
    "    \n",
    "book = GradeBook()\n",
    "albert = book.get_student('Albert Einstein')\n",
    "\n",
    "math = albert.get_subject('Math')\n",
    "math.report_grade(75, 0.05)\n",
    "math.report_grade(65, 0.15)\n",
    "math.report_grade(70, 0.80)\n",
    "\n",
    "gym = albert.get_subject('Gym')\n",
    "gym.report_grade(100, 0.40)\n",
    "gym.report_grade(85, 0.60)\n",
    "\n",
    "print(albert.average_grade())\n"
   ]
  },
  {
   "cell_type": "markdown",
   "metadata": {},
   "source": [
    "## Item 38: Accept Functions Instead of Classes for Simple Interfaces\n",
    "\n",
    "Many of Python's built-in APIs allow you to customize behavior by passing in a function.  These **hooks** are used by APIs to call back your code while they execute.  For example, the `list` type's `sort` method takes an optional key argument that's used to determine each index's value for sorting.  Functions work as hooks beacuse Python has **first-class functions:** functions and methods can be passed around and referenced like any other value in the language.\n",
    "\n",
    "Instead of defining and instantiating classes, you can often simply use functions for simple interfaces between components in Python.  \n",
    "\n",
    "References to functions and methods in Python are first class, meaning they can be used in expressions (like any other type).  \n",
    "\n",
    "The `__call__` special method enables instances of a class to be called like plain Python functions.  \n",
    "\n",
    "When you need a function to maintain state, consider defining a class that provides the `__call__` method instead of defining a stateful closure."
   ]
  },
  {
   "cell_type": "code",
   "execution_count": 27,
   "metadata": {},
   "outputs": [
    {
     "name": "stdout",
     "output_type": "stream",
     "text": [
      "Before: {'green': 12, 'blue': 3}\n",
      "Key added\n",
      "Key added\n",
      "After: {'green': 12, 'blue': 20, 'red': 5, 'orange': 9}\n"
     ]
    }
   ],
   "source": [
    "from collections import defaultdict\n",
    "\n",
    "def log_missing():\n",
    "    print('Key added')\n",
    "    return 0\n",
    "\n",
    "current = {'green': 12, 'blue': 3}\n",
    "increments = [\n",
    "    ('red', 5),\n",
    "    ('blue', 17),\n",
    "    ('orange', 9)\n",
    "]\n",
    "# pass in log_missing to the defaultdict\n",
    "result = defaultdict(log_missing, current)\n",
    "print(f'Before: {dict(result)}')\n",
    "for key, amount in increments:\n",
    "    result[key] += amount\n",
    "print(f'After: {dict(result)}')\n"
   ]
  },
  {
   "cell_type": "markdown",
   "metadata": {},
   "source": [
    "#### Say, for example I want to keep track of state, like the total number of keys that were missing.  One (relatively poor) way to achieve this is to use a **stateful closure**:\n"
   ]
  },
  {
   "cell_type": "code",
   "execution_count": 29,
   "metadata": {},
   "outputs": [
    {
     "name": "stdout",
     "output_type": "stream",
     "text": [
      "Missing\n",
      "Missing\n",
      "count = 2\n"
     ]
    }
   ],
   "source": [
    "def increment_with_report(current, increments):\n",
    "    added_count = 0\n",
    "    \n",
    "    def missing():\n",
    "        nonlocal added_count # stateful closure\n",
    "        print('Missing')\n",
    "        added_count += 1\n",
    "        return 0\n",
    "    result = defaultdict(missing, current)\n",
    "    for key, amount in increments:\n",
    "        result[key] += amount\n",
    "        \n",
    "    return result, added_count\n",
    "\n",
    "result, count = increment_with_report(current, increments)\n",
    "print(f'count = {count}')"
   ]
  },
  {
   "cell_type": "markdown",
   "metadata": {},
   "source": [
    "#### The problem with defining a closure for stateful hooks is that it's harder to read than the stateless function example."
   ]
  },
  {
   "cell_type": "code",
   "execution_count": 31,
   "metadata": {},
   "outputs": [
    {
     "name": "stdout",
     "output_type": "stream",
     "text": [
      "counter = 2\n"
     ]
    }
   ],
   "source": [
    "class CountMissing:\n",
    "    def __init__(self):\n",
    "        self.added = 0\n",
    "        \n",
    "    def missing(self):\n",
    "        self.added += 1\n",
    "        return 0\n",
    "    \n",
    "counter = CountMissing()\n",
    "result = defaultdict(counter.missing, current)\n",
    "for key, amount in increments:\n",
    "    result[key] += amount\n",
    "    \n",
    "print(f'counter = {counter.added}')"
   ]
  },
  {
   "cell_type": "markdown",
   "metadata": {},
   "source": [
    "Using a helper class like this to provide the behavior of a stateful closure is clearer than using the increment_with_report function.  However, it's still not really clear what the purpose of the CountMissing class is.  Who constructs it?  Who calls the missing method?  Until you see its usage with `defaultdict`, the class is a mystery.\n",
    "\n",
    "To clarify this situation, Python allows classes to define the `__call__` special method.  `__call__` allows an object to be called just like a function.  All objects that can be executed in this manner are referred to as **callables**:\n"
   ]
  },
  {
   "cell_type": "code",
   "execution_count": 35,
   "metadata": {},
   "outputs": [
    {
     "name": "stdout",
     "output_type": "stream",
     "text": [
      "0\n",
      "True\n"
     ]
    }
   ],
   "source": [
    "class BetterCountMissing:\n",
    "    def __init__(self):\n",
    "        self.added = 0\n",
    "        \n",
    "    def __call__(self):\n",
    "        self.added += 1\n",
    "        return 0\n",
    "    \n",
    "counter = BetterCountMissing()\n",
    "print(counter())\n",
    "print(callable(counter))"
   ]
  },
  {
   "cell_type": "code",
   "execution_count": 36,
   "metadata": {},
   "outputs": [
    {
     "name": "stdout",
     "output_type": "stream",
     "text": [
      "2\n"
     ]
    }
   ],
   "source": [
    "counter = BetterCountMissing()\n",
    "\n",
    "result = defaultdict(counter, current)\n",
    "for key, amount in increments:\n",
    "    result[key] += amount\n",
    "    \n",
    "print(counter.added)"
   ]
  },
  {
   "cell_type": "markdown",
   "metadata": {},
   "source": [
    "## Item 39: Use `@classmethod` Polymorphism to Construct Objects Generically\n",
    "\n",
    "In Python, not only do objects support polymorphism, but classes do too, but what does this really mean?\n",
    "\n",
    "Polymorphism enables multiple classes in a hierarchy to implement their own unique versions of a method.  This means that many classes can fulfill the same interface or abstract base class whlie providing different functionality.\n",
    "\n",
    "For example, say that I'm writing a MapReduce implementation, and I want a common class to represent the input data.  Here, I define such a class with a read method that must be defined by subclasses."
   ]
  },
  {
   "cell_type": "code",
   "execution_count": 38,
   "metadata": {},
   "outputs": [],
   "source": [
    "class InputData:\n",
    "    def read(self):\n",
    "        raise NotImplementedError"
   ]
  },
  {
   "cell_type": "markdown",
   "metadata": {},
   "source": [
    "I also have a concrete subclass of InputData that reads data from a file on disk:"
   ]
  },
  {
   "cell_type": "code",
   "execution_count": 39,
   "metadata": {},
   "outputs": [],
   "source": [
    "class PathInputData(InputData):\n",
    "    def __init__(self, path):\n",
    "        super().__init__()\n",
    "        self.path = path\n",
    "        \n",
    "    def read(self):\n",
    "        with open(self.path) as f:\n",
    "            return f.read()"
   ]
  },
  {
   "cell_type": "markdown",
   "metadata": {},
   "source": [
    "I'd want a similar abstract interface for the MapReduce worker that consumes the input data in a standard way:"
   ]
  },
  {
   "cell_type": "code",
   "execution_count": 45,
   "metadata": {},
   "outputs": [],
   "source": [
    "class Worker:\n",
    "    def __init__(self, input_data):\n",
    "        self.input_data = input_data\n",
    "        self.result = None\n",
    "        \n",
    "    def map(self):\n",
    "        raise NotImplementedError\n",
    "        \n",
    "    def reduce(self, other):\n",
    "        raise NotImplementedError\n"
   ]
  },
  {
   "cell_type": "markdown",
   "metadata": {},
   "source": [
    "Here, I define a concrete subclass of `Worker` to implement the specific MapReduce function I want to apply - a simple newline counter:"
   ]
  },
  {
   "cell_type": "code",
   "execution_count": 46,
   "metadata": {},
   "outputs": [],
   "source": [
    "class LineCountWorker(Worker):\n",
    "    def map(self):\n",
    "        data = self.input_data.read()\n",
    "        self.result = data.count('\\n')\n",
    "        \n",
    "    def reduce(self, other):\n",
    "        self.result += other.result"
   ]
  },
  {
   "cell_type": "markdown",
   "metadata": {},
   "source": [
    "It may look like this implementation is going great, but I've reached the biggest hurdle in all of this.  What connects all of these pieces?\n",
    "\n",
    "The simplest approach is to manually build and connect the objects with some helper functions.  Here, I list the contents of a directory and construct a PathInputData instance for each file it contains:"
   ]
  },
  {
   "cell_type": "code",
   "execution_count": 48,
   "metadata": {},
   "outputs": [
    {
     "name": "stdout",
     "output_type": "stream",
     "text": [
      "There are 5567 lines\n"
     ]
    }
   ],
   "source": [
    "import os\n",
    "import random\n",
    "from threading import Thread\n",
    "\n",
    "def generate_inputs(data_dir):\n",
    "    for name in os.listdir(data_dir):\n",
    "        yield PathInputData(os.path.join(data_dir, name))\n",
    "        \n",
    "# Next, I create the LineCountWorker instances by using the InputData instances returned by generate_inputs:\n",
    "def create_workers(input_list):\n",
    "    workers = []\n",
    "    for input_data in input_list:\n",
    "        workers.append(LineCountWorker(input_data))\n",
    "        \n",
    "    return workers\n",
    "\n",
    "# I execute these Worker instances by fanning out the map step to multiple threads.  Then, I call\n",
    "# reduce repeatedly to combine the results into one final value:\n",
    "\n",
    "def execute(workers):\n",
    "    threads = [Thread(target=w.map) for w in workers]\n",
    "    for thread in threads: thread.start()\n",
    "    for thread in threads: thread.join()\n",
    "        \n",
    "    first, *rest = workers\n",
    "    for worker in rest:\n",
    "        first.reduce(worker)\n",
    "        \n",
    "    return first.result\n",
    "\n",
    "# FINALLY, I connect all the pieces together in a function to run each step:\n",
    "\n",
    "def mapreduce(data_dir):\n",
    "    inputs = generate_inputs(data_dir)\n",
    "    workers = create_workers(inputs)\n",
    "    \n",
    "    return execute(workers)\n",
    "\n",
    "# Running this function on a set of test input files works great:\n",
    "\n",
    "def write_test_files(tmpdir):\n",
    "    os.makedirs(tmpdir)\n",
    "    for i in range(100):\n",
    "        with open(os.path.join(tmpdir, str(i)), 'w') as f:\n",
    "            f.write('\\n' * random.randint(0, 100))\n",
    "\n",
    "tmpdir = 'test_inputs'\n",
    "write_test_files(tmpdir)\n",
    "\n",
    "result = mapreduce(tmpdir)\n",
    "print(f'There are {result} lines')"
   ]
  },
  {
   "cell_type": "markdown",
   "metadata": {},
   "source": [
    "We see that this works, but the huge problem is that the mapreduce function is not generic at all.  If I wanted to write another `InputData` or `Worker` subclass, I would also have to rewrite the `generate_inputs`, `create_workers` and `mapreduce` functions to match.  \n",
    "\n",
    "This all boils down to needing a generic way to construct objects.  In other languages, you'd solve this with constructor polymorphism, requiring that each InputData subclass provides a special constructor that can be used generically by the helper methods that orchestrate the MapReduce.  The trouble is that Python only allows for a single constructor method `__init__`.\n",
    "\n",
    "The best way to solve this problem is with **class method polymorphism.**  This is exactly like the instance method polymorphism I used for `InputData.read`, except that it's for whole classes instead of their constructed objects.\n",
    "\n",
    "Let's apply this idea to the `MapReduce` classes.  Here, I extend the `InputData` class with a generic `@classmethod` that's responsible for creating new `InputData` instances using a common interface."
   ]
  },
  {
   "cell_type": "code",
   "execution_count": 49,
   "metadata": {},
   "outputs": [],
   "source": [
    "class GenericInputData:\n",
    "    def read(self):\n",
    "        raise NotImplementedError\n",
    "        \n",
    "    @classmethod\n",
    "    def generate_inputs(cls, config):\n",
    "        raise NotImplementedError\n",
    "        \n",
    "# I have generate_inputs take a dictionary with a set of configuration\n",
    "# parameters that the GenericInputData concrete subclass needs to interpret.\n",
    "        \n",
    "class PathInputData(GenericInputData):\n",
    "    def __init__(self, path):\n",
    "        super().__init__()\n",
    "        self.path = path\n",
    "\n",
    "    def read(self):\n",
    "        with open(self.path) as f:\n",
    "            return f.read()\n",
    "\n",
    "    @classmethod\n",
    "    def generate_inputs(cls, config):\n",
    "        \"\"\" Factory method\"\"\"\n",
    "        data_dir = config['data_dir']\n",
    "        for name in os.listdir(data_dir):\n",
    "            yield cls(os.path.join(data_dir, name))       \n",
    "\n",
    "# Similarly, I can make the create_workers helper part of the GenericWorker\n",
    "# class.  Here, I use the input_class parameter, which must be a subclass\n",
    "# of GenericInputData, to generate the necessary inputs. I construct instances\n",
    "# of the GenericWorker concrete subclass by using cls() as a generic constructor:\n",
    "\n",
    "class GenericWorker:\n",
    "    def __init__(self, input_data):\n",
    "        self.input_data = input_data\n",
    "        self.result = None\n",
    "\n",
    "    def map(self):\n",
    "        raise NotImplementedError\n",
    "\n",
    "    def reduce(self, other):\n",
    "        raise NotImplementedError\n",
    "\n",
    "    @classmethod\n",
    "    def create_workers(cls, input_class, config):\n",
    "        \"\"\" Factory method to instantiate generic workers\"\"\"\n",
    "        workers = []\n",
    "        for input_data in input_class.generate_inputs(config):\n",
    "            workers.append(cls(input_data))\n",
    "        return workers\n",
    "        "
   ]
  },
  {
   "cell_type": "markdown",
   "metadata": {},
   "source": [
    "Note that the call to input_class.generate_inputs above is the class polymorphism that I'm trying to show.  You can also see how create_workers calling cls() provides an alternative way to construct GenericWorker objects besides using the `__init__` method directly.\n",
    "\n",
    "The effect on my concrete `GenericWorker` subclass is nothing more than changing its parent class:"
   ]
  },
  {
   "cell_type": "code",
   "execution_count": 50,
   "metadata": {},
   "outputs": [],
   "source": [
    "class LineCountWorker(GenericWorker):\n",
    "    def map(self):\n",
    "        data = self.input_data.read()\n",
    "        self.result = data.count('\\n')\n",
    "\n",
    "    def reduce(self, other):\n",
    "        self.result += other.result"
   ]
  },
  {
   "cell_type": "markdown",
   "metadata": {},
   "source": [
    "Finally, I can rewrite the `mapreduce` function to be completely generic by calling create_workers:"
   ]
  },
  {
   "cell_type": "code",
   "execution_count": 51,
   "metadata": {},
   "outputs": [
    {
     "name": "stdout",
     "output_type": "stream",
     "text": [
      "There are 5567 lines\n"
     ]
    }
   ],
   "source": [
    "def mapreduce(worker_class, input_class, config):\n",
    "    workers = worker_class.create_workers(input_class, config)\n",
    "    return execute(workers)\n",
    "\n",
    "config = {'data_dir': tmpdir}\n",
    "result = mapreduce(LineCountWorker, PathInputData, config)\n",
    "print(f'There are {result} lines')"
   ]
  },
  {
   "cell_type": "markdown",
   "metadata": {},
   "source": [
    "Python only supports a single constructor per class: the `__init__` special method.\n",
    "\n",
    "Use `@classmethod` to define alternative constructors for your classes.\n",
    "\n",
    "Use class method polymorphism to provide generic ways to build and connect many concrete subclasses."
   ]
  },
  {
   "cell_type": "markdown",
   "metadata": {},
   "source": [
    "## Item 40: Initialize Parent Classes with `super`\n",
    "\n",
    "The old, simple way to initialize a parent class from a child class is to directly call the parent class' `__init__` method with the child instance.  This can be fine, but can lead to buggy behavior in some cases:\n",
    "If a class is affected by multiple inheritace, calling the superclasses' `__init__` methods directly can lead to unpredictible behavior.  \n",
    "\n",
    "One problem is that the `__init__` call order isn't specified across all subclasses.\n",
    "\n",
    "Another problem occurs with diamond inheritence, which causes the common superclasses' `__init__` method to run multiple times, causing unexpected behavior.\n",
    "\n",
    "To solve these problems, Python has the `super` built-in function and standard method resolution order (MRO).  `super` ensures that common superclasses in diamond hierarchies run only once.  The MRO defines the ordering in which superclasses are initialized, following an algorithm called C3 linearization."
   ]
  },
  {
   "cell_type": "code",
   "execution_count": 58,
   "metadata": {},
   "outputs": [
    {
     "name": "stdout",
     "output_type": "stream",
     "text": [
      "Should be 7 * (5 + 9) = 98 and is 98\n"
     ]
    }
   ],
   "source": [
    "class MyBaseClass:\n",
    "    def __init__(self, value):\n",
    "        self.value = value\n",
    "\n",
    "class TimesSevenCorrect(MyBaseClass):\n",
    "    def __init__(self, value):\n",
    "        super().__init__(value)\n",
    "        self.value *= 7\n",
    "        \n",
    "class PlusNineCorrect(MyBaseClass):\n",
    "    def __init__(self, value):\n",
    "        super().__init__(value)\n",
    "        self.value += 9\n",
    "        \n",
    "class GoodWay(TimesSevenCorrect, PlusNineCorrect):\n",
    "    def __init__(self, value):\n",
    "        super().__init__(value)\n",
    "    \n",
    "foo = GoodWay(5)\n",
    "print(f'Should be 7 * (5 + 9) = 98 and is {foo.value}')"
   ]
  },
  {
   "cell_type": "markdown",
   "metadata": {},
   "source": [
    "Besides making multiple inheritence robust, the call to `super().__init__` is also much more maintainable than calling `MyBaseClass.__init__` directly from within the subclasses.  I could later rename `MyBaseClass` to something else or have `TimesSevenCorrect` and `PlusNineCorrect` inherit from another superclass without having to upder their `__init__` methods to match."
   ]
  },
  {
   "cell_type": "markdown",
   "metadata": {},
   "source": [
    "## Item 41: Consider Composing Functionality with Mix-in classes\n",
    "\n",
    "It's best to avoid multiple inheritence when you can.  If you find yourself desiring the convenience and encapsulation that come with multiple inheritence, but want to avoid the potential headaches, consider writing a **mix-in** instead.  A mix-in is a class that defines only a small set of additional methods for its child classes to provide.  Mix-ins don't define their own instance attributes nor require their `__init__` constructor to be called.\n",
    "\n",
    "For example, say I want the ability to convert a Python object from its in-memory representation to a dictionary that's ready for serialization.\n",
    "\n",
    "Let's define an example mix-in that accomplishes this with a new public method that's added to any class that inherits from it:"
   ]
  },
  {
   "cell_type": "code",
   "execution_count": 62,
   "metadata": {},
   "outputs": [
    {
     "name": "stdout",
     "output_type": "stream",
     "text": [
      "{'left': {'left': None,\n",
      "          'right': {'left': None, 'right': None, 'value': 9},\n",
      "          'value': 7},\n",
      " 'right': {'left': {'left': None, 'right': None, 'value': 11},\n",
      "           'right': None,\n",
      "           'value': 13},\n",
      " 'value': 10}\n"
     ]
    }
   ],
   "source": [
    "from pprint import pprint\n",
    "\n",
    "class ToDictMixin:\n",
    "    def to_dict(self):\n",
    "        return self._traverse_dict(self.__dict__)\n",
    "    \n",
    "    def _traverse_dict(self, instance_dict):\n",
    "        output = {}\n",
    "        for key, value in instance_dict.items():\n",
    "            output[key] = self._traverse(key, value)\n",
    "        return output\n",
    "    \n",
    "    def _traverse(self, key, value):\n",
    "        if isinstance(value, ToDictMixin):\n",
    "            return value.to_dict()\n",
    "        elif isinstance(value, dict):\n",
    "            return self._traverse_dict(value)\n",
    "        elif isinstance(value, list):\n",
    "            return [self._traverse(key, i) for i in value]\n",
    "        elif hasattr(value, '__dict__'):\n",
    "            return self._traverse_dict(value.__dict__)\n",
    "        else:\n",
    "            return value\n",
    "        \n",
    "# example class that uses the mix-in to make a dictionary representation of a binary tree:\n",
    "class BinaryTree(ToDictMixin):\n",
    "    def __init__(self, value, left=None, right=None):\n",
    "        self.value = value\n",
    "        self.left = left\n",
    "        self.right = right\n",
    "        \n",
    "tree = BinaryTree(10,\n",
    "                 left=BinaryTree(7, right = BinaryTree(9)),\n",
    "                  right=BinaryTree(13, left = BinaryTree(11)))\n",
    "\n",
    "orig_print = print\n",
    "print = pprint\n",
    "print(tree.to_dict())\n",
    "print = orig_print"
   ]
  },
  {
   "cell_type": "markdown",
   "metadata": {},
   "source": [
    "The best part about mix-ins is that you can make their generic functionality pluggable so behaviors can be overriden when required.  For example, here I define a subclass of `BinaryTree` that holds a reference to its parent.  This circular reference would cause the default implementation of `ToDictMixin.to_dict` to loop forever.  The solution is to override the `BinaryTreeWithParent._traverse` method to only process values that matter, preventing cycles encountered by the mix-in.  Here, the `_traverse` override inserts the parents numerical value and otherwise defers to the mix-in's default implementation by using the `super` built-in function:"
   ]
  },
  {
   "cell_type": "code",
   "execution_count": 63,
   "metadata": {},
   "outputs": [
    {
     "name": "stdout",
     "output_type": "stream",
     "text": [
      "{'left': {'left': None,\n",
      "          'parent': 10,\n",
      "          'right': {'left': None, 'parent': 7, 'right': None, 'value': 9},\n",
      "          'value': 7},\n",
      " 'parent': None,\n",
      " 'right': None,\n",
      " 'value': 10}\n"
     ]
    }
   ],
   "source": [
    "class BinaryTreeWithParent(BinaryTree):\n",
    "    def __init__(self, value, left=None, right=None, parent=None):\n",
    "        super().__init__(value, left=left, right=right)\n",
    "        self.parent = parent\n",
    "        \n",
    "    def _traverse(self, key, value):\n",
    "        if(isinstance(value, BinaryTreeWithParent) and key == 'parent'):\n",
    "            return value.value # prevent cycles\n",
    "        else:\n",
    "            return super()._traverse(key, value)\n",
    "        \n",
    "# calling BinaryTreeWithParent.to_dict works without issue because the circular referencing\n",
    "# properties aren't followed:\n",
    "\n",
    "root = BinaryTreeWithParent(10)\n",
    "root.left = BinaryTreeWithParent(7, parent=root)\n",
    "root.left.right = BinaryTreeWithParent(9, parent=root.left)\n",
    "\n",
    "orig_print = print\n",
    "print = pprint\n",
    "print(root.to_dict())\n",
    "print = orig_print"
   ]
  },
  {
   "cell_type": "markdown",
   "metadata": {},
   "source": [
    "Avoid using multiple inheritence with instance attributes and `__init__` if mix-in classes can achieve the same outcome.  \n",
    "\n",
    "Use pluggable behaviors at the instance level to provide per-class customization when mix-in classes may require it.  \n",
    "\n",
    "Mix-ins can include instance methods or class methods, depending on your needs.  \n",
    "\n",
    "Compose mix-ins to create complex functionality from simple behaviors."
   ]
  },
  {
   "cell_type": "markdown",
   "metadata": {},
   "source": [
    "## Item 42: Prefer Public Attributes Over Private Ones\n",
    "\n",
    "In Python, there are only two types of visibility for a class' attributes: **public** and **private**.  "
   ]
  },
  {
   "cell_type": "code",
   "execution_count": 65,
   "metadata": {},
   "outputs": [
    {
     "name": "stdout",
     "output_type": "stream",
     "text": [
      "foo.public_field = 5\n"
     ]
    }
   ],
   "source": [
    "class MyObject:\n",
    "    def __init__(self):\n",
    "        self.public_field = 5\n",
    "        self.__private_field = 10\n",
    "        \n",
    "    def get_private_field(self):\n",
    "        return self.__private_field\n",
    "    \n",
    "# public attributes can be accessed by anyone using the dot operator\n",
    "# on the object:\n",
    "\n",
    "foo = MyObject()\n",
    "print(f'foo.public_field = {foo.public_field}')"
   ]
  },
  {
   "cell_type": "markdown",
   "metadata": {},
   "source": [
    "Private fields are specified by prefixing an attributes name with a double underscore.  They can be accessed directly by methods of the containing class, but trying to access them from outside the class raises an exception."
   ]
  },
  {
   "cell_type": "code",
   "execution_count": 67,
   "metadata": {},
   "outputs": [
    {
     "ename": "AttributeError",
     "evalue": "'MyObject' object has no attribute '__private_field'",
     "output_type": "error",
     "traceback": [
      "\u001b[0;31m---------------------------------------------------------------------------\u001b[0m",
      "\u001b[0;31mAttributeError\u001b[0m                            Traceback (most recent call last)",
      "\u001b[0;32m<ipython-input-67-de2db2ecebce>\u001b[0m in \u001b[0;36m<module>\u001b[0;34m\u001b[0m\n\u001b[0;32m----> 1\u001b[0;31m \u001b[0mprint\u001b[0m\u001b[0;34m(\u001b[0m\u001b[0;34mf'foo.__private_field = {foo.__private_field}'\u001b[0m\u001b[0;34m)\u001b[0m\u001b[0;34m\u001b[0m\u001b[0;34m\u001b[0m\u001b[0m\n\u001b[0m",
      "\u001b[0;31mAttributeError\u001b[0m: 'MyObject' object has no attribute '__private_field'"
     ]
    }
   ],
   "source": [
    "print(f'foo.__private_field = {foo.__private_field}')"
   ]
  },
  {
   "cell_type": "markdown",
   "metadata": {},
   "source": [
    "The private attribute behavior is implemented with a simple transformation of the attribute name, known as **name mangling**.  When the Python compiler sees private attribute access in methods like `MyChildObject.get_private_field`, it translates the `__private_field` attribute access to use the name `_MyChildObject__private_field` instead.  "
   ]
  },
  {
   "cell_type": "markdown",
   "metadata": {},
   "source": [
    "Python won't restrict you from accessing private fields because, well, as one often quotted motto goes \"we are all consenting adults here.\"  What this means is that we don't need the language to prevent us from doing what we want to do.  Python programmers believe that the benefits of being open - permitting unplanned extensions of classes by default - outweigh the downsides.  \n",
    "\n",
    "To minize damage from accessing internals unknowingly, Python programmers follow a naming convention defined in the PEP 8 style guide.  Fields prefixed by a single underscore are **protected** by convention, meaning external users of the class should proceed with caution.  \n",
    "\n",
    "Use protected attributes, not private ones.  By choosing private attributes, you're only making subclass overrides and extensions cumbersome and brittle.  In general, it's better to err on the side of allowing subclasses to do more by using protected attributes.  \n",
    "\n",
    "Use documentation of protected fields to guide subclasses instead of trying to force access control with private attributes.  \n",
    "\n",
    "Only consider using private attributes to avoid naming conflicts with subclasses that are out of your control.  "
   ]
  },
  {
   "cell_type": "markdown",
   "metadata": {},
   "source": [
    "## Item 43: Inherit from `collections.abc` for Custom Container Types\n",
    "\n",
    "When you're designing classes for simple use cases like sequences, it's natural to want to subclass Python's built-int `list` type directly.  For example, say I want to create my own custom `list` typee that has additional methods for counting the frequency of its members:"
   ]
  },
  {
   "cell_type": "code",
   "execution_count": 68,
   "metadata": {},
   "outputs": [
    {
     "name": "stdout",
     "output_type": "stream",
     "text": [
      "Length is 7\n",
      "After pop: ['a', 'b', 'a', 'c', 'b', 'a']\n",
      "Frequency: {'a': 3, 'b': 2, 'c': 1}\n"
     ]
    }
   ],
   "source": [
    "class FrequencyList(list):\n",
    "    def __init__(self, members):\n",
    "        super().__init__(members)\n",
    "\n",
    "    def frequency(self):\n",
    "        counts = {}\n",
    "        for item in self:\n",
    "            counts[item] = counts.get(item, 0) + 1\n",
    "        return counts\n",
    "\n",
    "foo = FrequencyList(['a', 'b', 'a', 'c', 'b', 'a', 'd'])\n",
    "print('Length is', len(foo))\n",
    "foo.pop()\n",
    "print('After pop:', repr(foo))\n",
    "print('Frequency:', foo.frequency())"
   ]
  },
  {
   "cell_type": "markdown",
   "metadata": {},
   "source": [
    "This worked out great for this simple example, but let's now imagine that I want to provide an object that feels like a `list` and allows indexing, but isn't a list subclass.  For example, say that I want to provide sequence semantics (like `list` or `tuple`) for a binary tree class:"
   ]
  },
  {
   "cell_type": "code",
   "execution_count": 70,
   "metadata": {},
   "outputs": [],
   "source": [
    "class BinaryNode:\n",
    "    def __init__(self, value, left=None, right=None):\n",
    "        self.value = value\n",
    "        self.left = left\n",
    "        self.right = right"
   ]
  },
  {
   "cell_type": "markdown",
   "metadata": {},
   "source": [
    "To make this class act like a sequence type python implements its container behaviors with instance methods that have special names.  When you access a sequence item by index:"
   ]
  },
  {
   "cell_type": "code",
   "execution_count": 71,
   "metadata": {},
   "outputs": [
    {
     "data": {
      "text/plain": [
       "1"
      ]
     },
     "execution_count": 71,
     "metadata": {},
     "output_type": "execute_result"
    }
   ],
   "source": [
    "bar = [1, 2, 3]\n",
    "bar[0]\n",
    "\n",
    "# it actually gets interpretted as:\n",
    "bar.__getitem__(0)"
   ]
  },
  {
   "cell_type": "markdown",
   "metadata": {},
   "source": [
    "To make the `BinaryNode` class act like a sequence, you can provide a custom implementation of the `__getitem__` special method that traverses the object tree depth first:"
   ]
  },
  {
   "cell_type": "code",
   "execution_count": 72,
   "metadata": {},
   "outputs": [
    {
     "name": "stdout",
     "output_type": "stream",
     "text": [
      "LRR is 7\n",
      "Index 0 is 2\n",
      "Index 1 is 5\n",
      "11 in the tree? True\n",
      "17 in the tree? False\n",
      "Tree is [2, 5, 6, 7, 10, 11, 15]\n"
     ]
    }
   ],
   "source": [
    "class IndexableNode(BinaryNode):\n",
    "    def _traverse(self):\n",
    "        if self.left is not None:\n",
    "            yield from self.left._traverse()\n",
    "        yield self\n",
    "        if self.right is not None:\n",
    "            yield from self.right._traverse()\n",
    "\n",
    "    def __getitem__(self, index):\n",
    "        for i, item in enumerate(self._traverse()):\n",
    "            if i == index:\n",
    "                return item.value\n",
    "        raise IndexError(f'Index {index} is out of range')\n",
    "\n",
    "tree = IndexableNode(\n",
    "    10,\n",
    "    left=IndexableNode(\n",
    "        5,\n",
    "        left=IndexableNode(2),\n",
    "        right=IndexableNode(\n",
    "            6,\n",
    "            right=IndexableNode(7))),\n",
    "    right=IndexableNode(\n",
    "        15,\n",
    "        left=IndexableNode(11)))\n",
    "\n",
    "print('LRR is', tree.left.right.right.value)\n",
    "print('Index 0 is', tree[0])\n",
    "print('Index 1 is', tree[1])\n",
    "print('11 in the tree?', 11 in tree)\n",
    "print('17 in the tree?', 17 in tree)\n",
    "print('Tree is', list(tree))\n",
    "\n",
    "try:\n",
    "    tree[100]\n",
    "except IndexError:\n",
    "    pass\n",
    "else:\n",
    "    assert False"
   ]
  },
  {
   "cell_type": "markdown",
   "metadata": {},
   "source": [
    "The problem is that implementing `__getitem__` isn't enough to provide all of the sequence semantics you'd expect from a list instance:"
   ]
  },
  {
   "cell_type": "code",
   "execution_count": 73,
   "metadata": {},
   "outputs": [
    {
     "ename": "TypeError",
     "evalue": "object of type 'IndexableNode' has no len()",
     "output_type": "error",
     "traceback": [
      "\u001b[0;31m---------------------------------------------------------------------------\u001b[0m",
      "\u001b[0;31mTypeError\u001b[0m                                 Traceback (most recent call last)",
      "\u001b[0;32m<ipython-input-73-dc0343ec22f7>\u001b[0m in \u001b[0;36m<module>\u001b[0;34m\u001b[0m\n\u001b[0;32m----> 1\u001b[0;31m \u001b[0mlen\u001b[0m\u001b[0;34m(\u001b[0m\u001b[0mtree\u001b[0m\u001b[0;34m)\u001b[0m\u001b[0;34m\u001b[0m\u001b[0;34m\u001b[0m\u001b[0m\n\u001b[0m",
      "\u001b[0;31mTypeError\u001b[0m: object of type 'IndexableNode' has no len()"
     ]
    }
   ],
   "source": [
    "len(tree)"
   ]
  },
  {
   "cell_type": "markdown",
   "metadata": {},
   "source": [
    "The len built-in function requires another special method, `__len__`, that must have an implementation for a custom sequence type:"
   ]
  },
  {
   "cell_type": "code",
   "execution_count": 74,
   "metadata": {},
   "outputs": [
    {
     "name": "stdout",
     "output_type": "stream",
     "text": [
      "Tree length is 7\n"
     ]
    }
   ],
   "source": [
    "class SequenceNode(IndexableNode):\n",
    "    def __len__(self):\n",
    "        for count, _ in enumerate(self._traverse(), 1):\n",
    "            pass\n",
    "        return count\n",
    "\n",
    "tree = SequenceNode(\n",
    "    10,\n",
    "    left=SequenceNode(\n",
    "        5,\n",
    "        left=SequenceNode(2),\n",
    "        right=SequenceNode(\n",
    "            6,\n",
    "            right=SequenceNode(7))),\n",
    "    right=SequenceNode(\n",
    "        15,\n",
    "        left=SequenceNode(11))\n",
    ")\n",
    "\n",
    "print('Tree length is', len(tree))"
   ]
  },
  {
   "cell_type": "markdown",
   "metadata": {},
   "source": [
    "Unfortunately, this still isn't enough for the class to fully be a valid sequence.  Still missing are the `count` and `index` methods that a Python programmer would expect to see on a sequence like `list` or `tuple`.  It turns out that defining your own container types is much harder than it seems.\n",
    "\n",
    "To avoid all this nonsense, the built-in collections.abc module defines as set of abstract base classes that provide all of the typical methods for each container type.  When you subclass from these abstract base classes and forget to implement required methods, the module tells you something is wrong:"
   ]
  },
  {
   "cell_type": "code",
   "execution_count": 79,
   "metadata": {},
   "outputs": [
    {
     "name": "stderr",
     "output_type": "stream",
     "text": [
      "ERROR:root:Expected\n",
      "Traceback (most recent call last):\n",
      "  File \"<ipython-input-79-368b405ecc60>\", line 9, in <module>\n",
      "    foo = BadType()\n",
      "TypeError: Can't instantiate abstract class BadType with abstract methods __getitem__, __len__\n"
     ]
    }
   ],
   "source": [
    "import logging\n",
    "\n",
    "try:\n",
    "    from collections.abc import Sequence\n",
    "    \n",
    "    class BadType(Sequence):\n",
    "        pass\n",
    "    \n",
    "    foo = BadType()\n",
    "except:\n",
    "    logging.exception('Expected')\n",
    "else:\n",
    "    assert False\n"
   ]
  },
  {
   "cell_type": "markdown",
   "metadata": {},
   "source": [
    "When you do implement all the methods required by an abstract base class from `collections.abc`, as I did above with `SequenceNode`, it provides all of the additional methods, like `index` and `count` for free:"
   ]
  },
  {
   "cell_type": "code",
   "execution_count": 81,
   "metadata": {},
   "outputs": [
    {
     "name": "stdout",
     "output_type": "stream",
     "text": [
      "Index of 7 is 3\n",
      "Count of 10 is 1\n"
     ]
    }
   ],
   "source": [
    "class BetterNode(SequenceNode, Sequence):\n",
    "    pass\n",
    "\n",
    "tree = BetterNode(\n",
    "    10,\n",
    "    left=BetterNode(\n",
    "        5,\n",
    "        left=BetterNode(2),\n",
    "        right=BetterNode(\n",
    "            6,\n",
    "            right=BetterNode(7))),\n",
    "    right=BetterNode(\n",
    "        15,\n",
    "        left=BetterNode(11))\n",
    ")\n",
    "\n",
    "print('Index of 7 is', tree.index(7))\n",
    "print('Count of 10 is', tree.count(10))"
   ]
  },
  {
   "cell_type": "markdown",
   "metadata": {},
   "source": [
    "Inherit directly from Python's container types for simple use cases only.  \n",
    "\n",
    "Beware of the large number of methods required to implement custom container types correctly.  \n",
    "\n",
    "Have your custom container types inherit from the interfaces defined in `collections.abc` to ensure that your classes match required interfaces and behaviors.\n",
    "\n"
   ]
  },
  {
   "cell_type": "code",
   "execution_count": null,
   "metadata": {},
   "outputs": [],
   "source": []
  }
 ],
 "metadata": {
  "kernelspec": {
   "display_name": "Python 3",
   "language": "python",
   "name": "python3"
  },
  "language_info": {
   "codemirror_mode": {
    "name": "ipython",
    "version": 3
   },
   "file_extension": ".py",
   "mimetype": "text/x-python",
   "name": "python",
   "nbconvert_exporter": "python",
   "pygments_lexer": "ipython3",
   "version": "3.8.10"
  }
 },
 "nbformat": 4,
 "nbformat_minor": 4
}
