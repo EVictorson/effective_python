{
 "cells": [
  {
   "cell_type": "markdown",
   "metadata": {},
   "source": [
    "## Item 19: Never Unpack More Than Three Variables When Functions Return Multiple Values ##\n",
    "\n",
    "Pretty simple, the point here is that using a large number of return values is extremely error prone, especially when you accidentally put unpacked variables in the wrong order."
   ]
  },
  {
   "cell_type": "markdown",
   "metadata": {},
   "source": [
    "## Item 20: Prefer Raising Exceptions to Returning `None`##\n",
    "\n",
    "The point here is that you lose information by returning `None` instead of raising exceptions.  The motivating example is in the case of a helper method to handle zero division.  If you return `None` it's ambiguous as to whether something like a `str` was entered into the function or if you tried to divide by 0.  "
   ]
  },
  {
   "cell_type": "code",
   "execution_count": 7,
   "metadata": {},
   "outputs": [
    {
     "name": "stdout",
     "output_type": "stream",
     "text": [
      "Invalid Inputs\n",
      "Invalid Inputs\n"
     ]
    }
   ],
   "source": [
    "def careful_divide(a, b):\n",
    "    try:\n",
    "        return a/b\n",
    "    except ZeroDivisionError:\n",
    "        return None\n",
    "        \n",
    "        \n",
    "x, y = 1, 0\n",
    "result = careful_divide(x, y)\n",
    "if result is None:\n",
    "    print('Invalid Inputs')\n",
    "    \n",
    "# but what happens if the numerator is 0 and we evalute with an if statement?\n",
    "x, y = 0, 5\n",
    "result = careful_divide(x, y)\n",
    "if not result:\n",
    "    print('Invalid Inputs')\n",
    "# we see it prints 'Invalid Inputs', but it shouldn't.    "
   ]
  },
  {
   "cell_type": "markdown",
   "metadata": {},
   "source": [
    "**One way to make this better is to split the return value into a two-tuple, where the first part indicates that the operation was a success or failure, and the second part is the actual result.**"
   ]
  },
  {
   "cell_type": "code",
   "execution_count": 11,
   "metadata": {},
   "outputs": [
    {
     "name": "stdout",
     "output_type": "stream",
     "text": [
      "Invalid Inputs of (1, 0)\n"
     ]
    }
   ],
   "source": [
    "def careful_divide(a, b):\n",
    "    try:\n",
    "        return True, a/b\n",
    "    except ZeroDivisionError:\n",
    "        return False, None\n",
    "        \n",
    "        \n",
    "x, y = 1, 0\n",
    "success, result = careful_divide(x, y)\n",
    "if not success:\n",
    "    print(f'Invalid Inputs of {x,y}')\n",
    "    \n",
    "# but what happens if the numerator is 0 and we evalute with an if statement?\n",
    "x, y = 0, 5\n",
    "success, result = careful_divide(x, y)\n",
    "if not success:\n",
    "    print(f'Invalid Inputs {x,y}')"
   ]
  },
  {
   "cell_type": "markdown",
   "metadata": {},
   "source": [
    "**The second, better way to reduce errors is to never return `None` for special cases.  Instead, raise an `Exception` up to the caller and have the caller deal with it.**"
   ]
  },
  {
   "cell_type": "code",
   "execution_count": 13,
   "metadata": {},
   "outputs": [
    {
     "name": "stdout",
     "output_type": "stream",
     "text": [
      "Result is 2.5\n"
     ]
    }
   ],
   "source": [
    "def careful_divide(a, b):\n",
    "    try:\n",
    "        return a / b\n",
    "    except ZeroDivisionError as e:\n",
    "        raise ValueError('Invalid Inputs')\n",
    "        \n",
    "x, y = 5, 2\n",
    "try:\n",
    "    result = careful_divide(x, y)\n",
    "except ValueError:\n",
    "    print('Invalid Inputs')\n",
    "else:\n",
    "    print(f'Result is {result}')"
   ]
  },
  {
   "cell_type": "markdown",
   "metadata": {},
   "source": [
    "**We can further extend this approach using type annotations to help clear up what type the inputs and outputs should be (but note that these are ignored by the interpreter and only serve as notes to users down the line):**"
   ]
  },
  {
   "cell_type": "code",
   "execution_count": 19,
   "metadata": {},
   "outputs": [
    {
     "name": "stdout",
     "output_type": "stream",
     "text": [
      "Caught the value error\n"
     ]
    }
   ],
   "source": [
    "def careful_divide(a: float, b: float) -> float:\n",
    "    \"\"\"Divides a by b.\n",
    "    Raises:\n",
    "        ValueError: When the inputs cannot be divided.\n",
    "    \"\"\"\n",
    "    try:\n",
    "        return a / b\n",
    "    except ZeroDivisionError as e:\n",
    "        raise ValueError('Invalid inputs')\n",
    "\n",
    "try:\n",
    "    result = careful_divide(1, 0)\n",
    "    #assert False\n",
    "except ValueError:\n",
    "    print('Caught the value error')\n",
    "\n",
    "assert careful_divide(1, 5) == 0.2"
   ]
  },
  {
   "cell_type": "markdown",
   "metadata": {},
   "source": [
    "## Item 21: Know How Closures Interact With Variable Scope ##\n",
    "\n",
    "### Motivating Example: ### \n",
    "Say that I want to sort a `list` of numbers but prioritize one group of numbers to come first.  A common way to do this is to pass a helper function as the key argument to a list's `sort` method."
   ]
  },
  {
   "cell_type": "code",
   "execution_count": 20,
   "metadata": {},
   "outputs": [
    {
     "name": "stdout",
     "output_type": "stream",
     "text": [
      "[2, 3, 5, 7, 1, 4, 6, 8]\n"
     ]
    }
   ],
   "source": [
    "def sort_priority(values, group):\n",
    "    def helper(x):\n",
    "        if x in group:\n",
    "            return(0, x)\n",
    "        return(1, x)\n",
    "    values.sort(key=helper)\n",
    "    \n",
    "numbers = [8, 3, 1, 2, 5, 4, 7, 6]\n",
    "group = {2, 3, 5, 7}\n",
    "sort_priority(numbers, group)\n",
    "print(numbers)"
   ]
  },
  {
   "cell_type": "markdown",
   "metadata": {},
   "source": [
    "The above example works for three reasons:\n",
    "1. Python supports **closures** - that is, functions that refer to variables from the scope in which they were defined.  This is why the helper function is able to access the group argument for `sort_priority`.  \n",
    "2. Functions are **first-class** objects in Python, which means you can refer to them directly, assign them to variables, pass them as arguments to other functions, compare them in expressions and if statements, and os on.  This is how the `sort` method can accept a closure function as the key argument.  \n",
    "3. Python has specific rules for comparing sequences.  It first compares items at index zero; then, if those are equal, it compares items at index one; if they are still equal, it compares items at index two, and so on.  This is why the return value from the `helper` closure causes the sort order to have two distinct groups.\n",
    "\n",
    "### Let's try to extend our function to return whether higher-priority items were seen at all so the user interface code can act accordingly and see how scope resolution works and how to use the `nonlocal` statement to indicate when a closure can modify a variable in its enclosing scope.### "
   ]
  },
  {
   "cell_type": "code",
   "execution_count": 21,
   "metadata": {},
   "outputs": [
    {
     "name": "stdout",
     "output_type": "stream",
     "text": [
      "Found: False\n",
      "[2, 3, 5, 7, 1, 4, 6, 8]\n"
     ]
    }
   ],
   "source": [
    "def sort_priority2(numbers, group):\n",
    "    found = False   # scope: set_priority2\n",
    "    def helper(x):\n",
    "        if x in group:\n",
    "            found = True   # scope: helper\n",
    "            return(0, x)\n",
    "        return(1, x)\n",
    "    numbers.sort(key=helper)\n",
    "    return found\n",
    "\n",
    "found = sort_priority2(numbers, group)\n",
    "print(f'Found: {found}')\n",
    "print(numbers)"
   ]
  },
  {
   "cell_type": "markdown",
   "metadata": {},
   "source": [
    "**The issue is that because of scope resolution, the closure cannot modify the found variable in its enclosing scope, only in its local scope, even though it has access to it.  In Python you can use the `nonlocal` statement is used to indicate that scope traversal should happen upon assignment for a specific variable name.**  \n",
    "  \n",
    "As with the anti-pattern of global variables, use `nonlocal` very sparingly and only for very simple functions.  If things get any more complicated than the most simple of cases, use a `class` instead.\n"
   ]
  },
  {
   "cell_type": "code",
   "execution_count": 23,
   "metadata": {},
   "outputs": [
    {
     "name": "stdout",
     "output_type": "stream",
     "text": [
      "Found: True\n",
      "[2, 3, 5, 7, 1, 4, 6, 8]\n"
     ]
    }
   ],
   "source": [
    "def sort_priority3(numbers, group):\n",
    "    found = False\n",
    "    def helper(x):\n",
    "        nonlocal found # found added\n",
    "        if x in group:\n",
    "            found = True\n",
    "            return(0, x)\n",
    "        return(1, x)\n",
    "    numbers.sort(key=helper)\n",
    "    return found\n",
    "\n",
    "found = sort_priority3(numbers, group)\n",
    "print(f'Found: {found}')\n",
    "print(numbers)"
   ]
  },
  {
   "cell_type": "markdown",
   "metadata": {},
   "source": [
    "## Item 22: Reduce Visual Noise with Variable Positional Arguments ##\n",
    "\n",
    "Use a variable number of positional arguments, `*args`, pronounced \"star args\" to help make things clearer and reduce visual noise."
   ]
  },
  {
   "cell_type": "code",
   "execution_count": 24,
   "metadata": {},
   "outputs": [
    {
     "name": "stdout",
     "output_type": "stream",
     "text": [
      "My numbers are: 1, 2\n",
      "Hi there\n"
     ]
    }
   ],
   "source": [
    "def log(message, *values):\n",
    "    if not values:\n",
    "        print(message)\n",
    "    else:\n",
    "        values_str = ', '.join(str(x) for x in values)\n",
    "        print(f'{message}: {values_str}')\n",
    "        \n",
    "log('My numbers are', 1, 2)\n",
    "log('Hi there')"
   ]
  },
  {
   "cell_type": "markdown",
   "metadata": {},
   "source": [
    "There are two problems that arise with accepting a variable number of positional arguments:\n",
    "    \n",
    "    1. The optional positional arguments are always turned into a `tuple` before they are passed to a function\n",
    "    2. You can't add new positional arguments to a function in the future without migrating every caller. \n",
    "        a. If you try to add a positional argument in the front of the argument list, existing callers will subtly break if they aren't updated with the correct input arguments."
   ]
  },
  {
   "cell_type": "markdown",
   "metadata": {},
   "source": [
    "## Item 23: Provide Optional Behavior with Keyword Arguments ##\n",
    "\n",
    "Python functions accept passing arguments by position as well as by keyword.  "
   ]
  },
  {
   "cell_type": "code",
   "execution_count": 29,
   "metadata": {},
   "outputs": [
    {
     "name": "stdout",
     "output_type": "stream",
     "text": [
      "6\n",
      "6\n",
      "6\n",
      "6\n"
     ]
    }
   ],
   "source": [
    "def remainder(number, divisor):\n",
    "    return number % divisor\n",
    "\n",
    "assert remainder(20, 7) == 6\n",
    "\n",
    "# All of these are equivalent because of keyword arguments.\n",
    "print(remainder(20, 7))\n",
    "print(remainder(20, divisor=7))\n",
    "print(remainder(number=20, divisor=7))\n",
    "print(remainder(divisor=7, number=20))"
   ]
  },
  {
   "cell_type": "code",
   "execution_count": 30,
   "metadata": {},
   "outputs": [
    {
     "ename": "SyntaxError",
     "evalue": "positional argument follows keyword argument (<ipython-input-30-60e2f4c14efe>, line 2)",
     "output_type": "error",
     "traceback": [
      "\u001b[0;36m  File \u001b[0;32m\"<ipython-input-30-60e2f4c14efe>\"\u001b[0;36m, line \u001b[0;32m2\u001b[0m\n\u001b[0;31m    remainder(number=20, 7)\u001b[0m\n\u001b[0m                         ^\u001b[0m\n\u001b[0;31mSyntaxError\u001b[0m\u001b[0;31m:\u001b[0m positional argument follows keyword argument\n"
     ]
    }
   ],
   "source": [
    "# But note that positional arguments must be specified before keyword arguments:\n",
    "remainder(number=20, 7)"
   ]
  },
  {
   "cell_type": "markdown",
   "metadata": {},
   "source": [
    "**If you already have a dictionary, and you want to use its contents to call a function like `remainder`, you can do this by using the ** operator.  This instructs Python to pass the values from the dictionary as the corresponding keyword arguments of the function:**"
   ]
  },
  {
   "cell_type": "code",
   "execution_count": 34,
   "metadata": {},
   "outputs": [
    {
     "name": "stdout",
     "output_type": "stream",
     "text": [
      "remainder(**my_kwargs) = 6\n",
      "remainder(number=20, **my_kwargs) = 6\n"
     ]
    }
   ],
   "source": [
    "# keyword argument dictionary\n",
    "my_kwargs = {\n",
    "    'number': 20,\n",
    "    'divisor': 7\n",
    "}\n",
    "\n",
    "print(f'remainder(**my_kwargs) = {remainder(**my_kwargs)}')\n",
    "\n",
    "# you can also mix the ** operator with positional arguments or keyword arguments in the function call\n",
    "# as long as no argument is repeated:\n",
    "\n",
    "my_kwargs = {\n",
    "    'divisor': 7\n",
    "}\n",
    "\n",
    "print(f'remainder(number=20, **my_kwargs) = {remainder(number=20, **my_kwargs)}')"
   ]
  },
  {
   "cell_type": "markdown",
   "metadata": {},
   "source": [
    "There are three main benefits to using keyword arguments:\n",
    "    1. They make the function call clearer to new readers of the code\n",
    "    2. They can have default values specified in the function definition\n",
    "    3. They provide a powerful way to extend a function's parameters while remaining backward compatible with existing callers."
   ]
  },
  {
   "cell_type": "markdown",
   "metadata": {},
   "source": [
    "## Item 24: Use `None` and Docstrings to Specify Dyanmic Default Arguments##\n",
    "\n",
    "### Motivating Example: ###\n",
    "Let's say I want to use a non-static type as a keyword argument's default value.  A naive (non-working) way to try to achieve this would be:\n"
   ]
  },
  {
   "cell_type": "code",
   "execution_count": 36,
   "metadata": {},
   "outputs": [
    {
     "name": "stdout",
     "output_type": "stream",
     "text": [
      "2021-08-07 13:28:37.575121: Hi there!\n",
      "2021-08-07 13:28:37.575121: Hello again!\n"
     ]
    }
   ],
   "source": [
    "from time import sleep\n",
    "from datetime import datetime\n",
    "\n",
    "def log(message, when=datetime.now()):\n",
    "    print(f'{when}: {message}')\n",
    "    \n",
    "log('Hi there!')\n",
    "sleep(0.1)\n",
    "log('Hello again!')"
   ]
  },
  {
   "cell_type": "markdown",
   "metadata": {},
   "source": [
    "#### The problem is that a default argument value is evaluated only once per module load, which usually happens when a program starts up.  After the module containing this code is loaded, the `datetime.now()` default argument will never be evaluated again.  \n",
    "\n",
    "#### The convention for achieving the desired result in Python is to provide a default value of `None` and to document the actual behavior in the docstring.  When your code sees the argument values `None`, you allocate the default value accordingly: "
   ]
  },
  {
   "cell_type": "code",
   "execution_count": 37,
   "metadata": {},
   "outputs": [
    {
     "name": "stdout",
     "output_type": "stream",
     "text": [
      "2021-08-07 13:32:08.982597: Hi there!\n",
      "2021-08-07 13:32:09.083202: Hello again!\n"
     ]
    }
   ],
   "source": [
    "def log(message, when=None):\n",
    "    \"\"\"\n",
    "    Log a message with a timestamp.\n",
    "    \n",
    "    Args:\n",
    "        message: Message to print.\n",
    "        when: datetime of when the message occurred.\n",
    "            Defaults to the present time.\n",
    "    \"\"\"\n",
    "    if when is None:\n",
    "        when = datetime.now()\n",
    "    print(f'{when}: {message}')\n",
    "    \n",
    "log('Hi there!')\n",
    "sleep(0.1)\n",
    "log('Hello again!')"
   ]
  },
  {
   "cell_type": "markdown",
   "metadata": {},
   "source": [
    "### We can also extend this approach using type annotations to make things a bit clearer to future users:"
   ]
  },
  {
   "cell_type": "code",
   "execution_count": 41,
   "metadata": {},
   "outputs": [
    {
     "name": "stdout",
     "output_type": "stream",
     "text": [
      "2021-08-07 13:38:15.128135: Hi there!\n",
      "2021-08-07 13:38:15.228864: Hello again!\n"
     ]
    }
   ],
   "source": [
    "from typing import Optional\n",
    "\n",
    "def log_typed(message: str, \n",
    "              when: Optional[datetime]=None) -> None:\n",
    "    \"\"\"\n",
    "    Log a message with a timestamp.\n",
    "    \n",
    "    Args:\n",
    "        message: Message to print.\n",
    "        when: datetime of when the message occurred.\n",
    "            Defaults to the present time.\n",
    "    \"\"\"\n",
    "    if when is None:\n",
    "        when = datetime.now()\n",
    "    print(f'{when}: {message}')\n",
    "    \n",
    "log_typed('Hi there!')\n",
    "sleep(0.1)\n",
    "log_typed('Hello again!')"
   ]
  },
  {
   "cell_type": "code",
   "execution_count": null,
   "metadata": {},
   "outputs": [],
   "source": []
  }
 ],
 "metadata": {
  "kernelspec": {
   "display_name": "Python 3",
   "language": "python",
   "name": "python3"
  },
  "language_info": {
   "codemirror_mode": {
    "name": "ipython",
    "version": 3
   },
   "file_extension": ".py",
   "mimetype": "text/x-python",
   "name": "python",
   "nbconvert_exporter": "python",
   "pygments_lexer": "ipython3",
   "version": "3.8.10"
  }
 },
 "nbformat": 4,
 "nbformat_minor": 4
}
