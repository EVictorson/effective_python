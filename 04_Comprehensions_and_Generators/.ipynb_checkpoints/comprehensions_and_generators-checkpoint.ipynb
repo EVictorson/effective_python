{
 "cells": [
  {
   "cell_type": "markdown",
   "metadata": {},
   "source": [
    "## Item 27: Use Comprehensions Instead of `map` and `filter` ##\n",
    "\n",
    "Python uses **list comprehensions** to provide a compact syntax for deriving a new `list` from another sequence or iterable.  Often times list comprehensions, because of their ability to implicity map and filter are going to be cleaner than the `map` and `filter` built-in functions as they don't require using lambda expressions."
   ]
  },
  {
   "cell_type": "code",
   "execution_count": 14,
   "metadata": {},
   "outputs": [
    {
     "name": "stdout",
     "output_type": "stream",
     "text": [
      "[1, 4, 9, 16, 25, 36, 49, 64, 81, 100]\n"
     ]
    }
   ],
   "source": [
    "# naive way (for loop and list.append)\n",
    "a = [1, 2, 3, 4, 5, 6, 7, 8, 9, 10]\n",
    "squares = []\n",
    "for x in a:\n",
    "    squares.append(x**2)\n",
    "print(squares)"
   ]
  },
  {
   "cell_type": "code",
   "execution_count": 15,
   "metadata": {},
   "outputs": [
    {
     "name": "stdout",
     "output_type": "stream",
     "text": [
      "[1, 4, 9, 16, 25, 36, 49, 64, 81, 100]\n"
     ]
    }
   ],
   "source": [
    "# slightly better way (using map built-in function)\n",
    "\n",
    "alt_squares = map(lambda x: x**2, a)\n",
    "print(list(alt_squares))"
   ]
  },
  {
   "cell_type": "code",
   "execution_count": 17,
   "metadata": {},
   "outputs": [
    {
     "name": "stdout",
     "output_type": "stream",
     "text": [
      "[1, 4, 9, 16, 25, 36, 49, 64, 81, 100]\n"
     ]
    }
   ],
   "source": [
    "# best way (list comprehensions)\n",
    "\n",
    "alt_squares2 = [x**2 for x in a]\n",
    "print(alt_squares2)"
   ]
  },
  {
   "cell_type": "markdown",
   "metadata": {},
   "source": [
    "Unlike `map`, list comprehensions let you easily filter items from the input `list`:"
   ]
  },
  {
   "cell_type": "code",
   "execution_count": 18,
   "metadata": {},
   "outputs": [
    {
     "name": "stdout",
     "output_type": "stream",
     "text": [
      "[4, 16, 36, 64, 100]\n"
     ]
    }
   ],
   "source": [
    "even_squares = [x**2 for x in a if x % 2 == 0]\n",
    "print(even_squares)"
   ]
  },
  {
   "cell_type": "markdown",
   "metadata": {},
   "source": [
    "The `filter` built in function can be used along with `map` to achieve the same result, but is much harder to read:"
   ]
  },
  {
   "cell_type": "code",
   "execution_count": 19,
   "metadata": {},
   "outputs": [
    {
     "name": "stdout",
     "output_type": "stream",
     "text": [
      "[4, 16, 36, 64, 100]\n"
     ]
    }
   ],
   "source": [
    "alt = map(lambda x: x**2, filter(lambda x: x % 2 == 0, a))\n",
    "print(list(alt))"
   ]
  },
  {
   "cell_type": "markdown",
   "metadata": {},
   "source": [
    "## Item 28: Avoid More Than Two Control Subexpressions in Comprehensions ##\n",
    "\n",
    "Beyond basic usage, comprehensions support multiple levels of looping, but it can quickly get unreadable."
   ]
  },
  {
   "cell_type": "code",
   "execution_count": 20,
   "metadata": {},
   "outputs": [
    {
     "name": "stdout",
     "output_type": "stream",
     "text": [
      "[1, 2, 3, 4, 5, 6, 7, 8, 9]\n"
     ]
    }
   ],
   "source": [
    "matrix = [[1, 2 , 3], [4, 5, 6], [7, 8, 9]]\n",
    "flat = [x for row in matrix for x in row]\n",
    "print(flat)"
   ]
  },
  {
   "cell_type": "code",
   "execution_count": 23,
   "metadata": {},
   "outputs": [
    {
     "name": "stdout",
     "output_type": "stream",
     "text": [
      "[1, 2, 3, 4, 5, 6, 7, 8, 9]\n"
     ]
    }
   ],
   "source": [
    "# this can get abused quickly, though (barf):\n",
    "my_lists = [\n",
    "    [[1, 2, 3],\n",
    "    [4, 5, 6],\n",
    "    [7, 8, 9]]\n",
    "]\n",
    "\n",
    "flat = [x for sublist1 in my_lists\n",
    "        for sublist2 in sublist1\n",
    "        for x in sublist2]\n",
    "\n",
    "print(flat)\n"
   ]
  },
  {
   "cell_type": "markdown",
   "metadata": {},
   "source": [
    "## Item 29: Avoid Repeated Work in Comprehensions by Using Assignment Expressions ##\n",
    "\n",
    "This one is pretty easy, remember the walrus operator `:=`?  Let's just try to use that when we can."
   ]
  },
  {
   "cell_type": "code",
   "execution_count": 26,
   "metadata": {},
   "outputs": [
    {
     "name": "stdout",
     "output_type": "stream",
     "text": [
      "{'screws': 4, 'wingnuts': 1}\n"
     ]
    }
   ],
   "source": [
    "stock = {\n",
    "    'nails': 125,\n",
    "    'screws': 35,\n",
    "    'wingnuts': 8,\n",
    "    'washers': 24\n",
    "}\n",
    "\n",
    "order = ['screws', 'wingnuts', 'clips']\n",
    "\n",
    "def get_batches(count, size):\n",
    "    # note: the // operator is the floor divide operator\n",
    "    return count // size\n",
    "\n",
    "result = {}\n",
    "\n",
    "for name in order:\n",
    "    count = stock.get(name, 0)\n",
    "    batches = get_batches(count, 8)\n",
    "    if batches:\n",
    "        result[name] = batches\n",
    "        \n",
    "print(result)"
   ]
  },
  {
   "cell_type": "markdown",
   "metadata": {},
   "source": [
    "we can clean this up a bit using dictionary comprehension:"
   ]
  },
  {
   "cell_type": "code",
   "execution_count": 28,
   "metadata": {},
   "outputs": [
    {
     "name": "stdout",
     "output_type": "stream",
     "text": [
      "{'screws': 4, 'wingnuts': 1}\n"
     ]
    }
   ],
   "source": [
    "found = {name: get_batches(stock.get(name, 0), 8)\n",
    "         for name in order\n",
    "         if get_batches(stock.get(name, 0), 8)}\n",
    "print(found)"
   ]
  },
  {
   "cell_type": "markdown",
   "metadata": {},
   "source": [
    "This is much cleaner, but we are still repeating the `get_batches(stock.get(name, 0))` operation.  An easy solution to this is to use an assignment expression!"
   ]
  },
  {
   "cell_type": "code",
   "execution_count": 31,
   "metadata": {},
   "outputs": [
    {
     "name": "stdout",
     "output_type": "stream",
     "text": [
      "{'screws': 4, 'wingnuts': 1}\n"
     ]
    }
   ],
   "source": [
    "found = {name: batches for name in order\n",
    "         if (batches := get_batches(stock.get(name, 0), 8))}\n",
    "\n",
    "print(found)"
   ]
  },
  {
   "cell_type": "markdown",
   "metadata": {},
   "source": [
    "## Item 30: Consider Generators Instead of Returning Lists ##  \n",
    "\n",
    "Using generators can be clearer than the alternative.  \n",
    "Generators can produce a sequence of outputs for arbitrarily large inputs because their working memory doesn't include all inputs and outputs.  \n",
    "\n",
    "Once again, because python is **duck-typed** a generator is any function that returns values via the `yield` keyword instead of `return`\n",
    "\n"
   ]
  },
  {
   "cell_type": "code",
   "execution_count": 32,
   "metadata": {},
   "outputs": [
    {
     "name": "stdout",
     "output_type": "stream",
     "text": [
      "[0, 5, 11, 15, 21, 27]\n"
     ]
    }
   ],
   "source": [
    "def index_words(text):\n",
    "    result = []\n",
    "    if text:\n",
    "        result.append(0)\n",
    "    for index, letter in enumerate(text):\n",
    "        if letter == ' ':\n",
    "            result.append(index + 1)\n",
    "    return result\n",
    "\n",
    "address = 'Four score and seven years ago...'\n",
    "result = index_words(address)\n",
    "print(result[:10])"
   ]
  },
  {
   "cell_type": "markdown",
   "metadata": {},
   "source": [
    "There are two problems with using this approach:\n",
    "    1. The code is a bit dense and noisy\n",
    "    2. index_words requires all results to be stored in the list before being returned.  For huge inputs, this can cause a program to run out of memory and crash."
   ]
  },
  {
   "cell_type": "code",
   "execution_count": 34,
   "metadata": {},
   "outputs": [
    {
     "name": "stdout",
     "output_type": "stream",
     "text": [
      "[0, 5, 11, 15, 21, 27, 31, 35, 43, 51]\n"
     ]
    }
   ],
   "source": [
    "import itertools\n",
    "\n",
    "address_lines = \"\"\"Four score and seven years\n",
    "ago our fathers brought forth on this\n",
    "continent a new nation, conceived in liberty,\n",
    "and dedicated to the proposition that all men\n",
    "are created equal.\"\"\"\n",
    "\n",
    "with open('address.txt', 'w') as f:\n",
    "    f.write(address_lines)\n",
    "\n",
    "def index_file(handle):\n",
    "    offset = 0\n",
    "    for line in handle:\n",
    "        if line:\n",
    "            yield offset\n",
    "        for letter in line:\n",
    "            offset += 1\n",
    "            if letter == ' ':\n",
    "                yield offset\n",
    "                \n",
    "with open('address.txt', 'r') as f:\n",
    "    it = index_file(f)\n",
    "    results = itertools.islice(it, 0, 10)\n",
    "    print(list(results))"
   ]
  },
  {
   "cell_type": "markdown",
   "metadata": {},
   "source": [
    "## Item 31: Be Defensive When Iterating Over Arguments ##\n",
    "\n"
   ]
  },
  {
   "cell_type": "markdown",
   "metadata": {},
   "source": [
    "You can create your own iterable object by implementing the `__iter__` special method.  \n",
    "\n",
    "When Python sees a statement like `for x in foo` it actually calls `iter(foo)`.  The `iter` built-in function calls the `foo.__iter__` special method in turn.  The `__iter__` method must return an iterator object (which itself implements the `__next__` special method.  Then, the for loop repeatedly calls the `next` built-in function on the iterator object until it's exhausted (indicated by raising a `StopIteration` exception).  You can achieve this by implementing the `__iter__` special method as a **generator**:"
   ]
  },
  {
   "cell_type": "markdown",
   "metadata": {},
   "source": [
    "### Motivating example:\n",
    "    Say that I want to analyze tourism numbers for Texas, I have a data set containing the tourism numbers for each city and I'd like to figure out what percentage of overall tourism each city receives.  To do this I need a normalization function that sums the inputs to determine the total number of tourists per year, and then divides each city's individual visitor count by the total to find that city's contribution to the whole:"
   ]
  },
  {
   "cell_type": "code",
   "execution_count": 41,
   "metadata": {},
   "outputs": [
    {
     "name": "stdout",
     "output_type": "stream",
     "text": [
      "[11.538461538461538, 26.923076923076923, 61.53846153846154]\n",
      "100.0\n"
     ]
    }
   ],
   "source": [
    "def normalize(numbers):\n",
    "    total = sum(numbers)\n",
    "    result = []\n",
    "    for value in numbers:\n",
    "        percent = 100 * value / total\n",
    "        result.append(percent)\n",
    "    return result\n",
    "\n",
    "visits = [15, 35, 80]\n",
    "percentages = normalize(visits)\n",
    "print(percentages)\n",
    "print(sum(percentages))"
   ]
  },
  {
   "cell_type": "markdown",
   "metadata": {},
   "source": [
    "Now, we see that this works on small lists that we provide, but what if we want to scale things up and load in data from a file that contains every city in Texas?"
   ]
  },
  {
   "cell_type": "code",
   "execution_count": 43,
   "metadata": {},
   "outputs": [
    {
     "name": "stdout",
     "output_type": "stream",
     "text": [
      "[]\n"
     ]
    }
   ],
   "source": [
    "# let's write data to a file:\n",
    "path = 'my_numbers.txt'\n",
    "with open(path, 'w') as f:\n",
    "    for i in (15, 35, 80):\n",
    "        f.write(f'{i}\\n')   \n",
    "\n",
    "def read_visits(data_path):\n",
    "    with open(data_path) as f:\n",
    "             for line in f:\n",
    "                yield int(line)\n",
    "                \n",
    "it = read_visits(path)\n",
    "percentages = normalize(it)\n",
    "print(percentages)"
   ]
  },
  {
   "cell_type": "markdown",
   "metadata": {},
   "source": [
    "What the heck, calling `normalize` on the `read_visits` generator's return vaulue produces no results!  \n",
    "\n",
    "This occurs because an iterator produces its results only a single time.  If you iterate over an iterator or generator that has already raised a `StopIteration` exception, you won't get any results the second time around.\n"
   ]
  },
  {
   "cell_type": "code",
   "execution_count": 45,
   "metadata": {},
   "outputs": [
    {
     "name": "stdout",
     "output_type": "stream",
     "text": [
      "[15, 35, 80]\n",
      "[]\n"
     ]
    }
   ],
   "source": [
    "it = read_visits(path)\n",
    "print(list(it))\n",
    "print(list(it))"
   ]
  },
  {
   "cell_type": "markdown",
   "metadata": {},
   "source": [
    "The problem is that you won't get errors when you iterate over an already exhausted iterator.  `for` loops, the `list` constructor and many other functions throughout the Python standard library expect the `StopIteration` exception to be raised during normal operation.  These functions can't tell the difference between an iterator that has no output and an iterator that had output and is now exhausted.  \n",
    "\n",
    "To work around this we can try a couple different things:\n",
    "1. you can explicitly exhaust an iterator and keep a copy of its entire contents in a list.  The probleme here is that the copy of the input iterator's contents could be extremely large, which is why we went with an iterator to begin with.\n",
    "2. Accept a function that returns a new iterator each time it's called.\n",
    "3. A better way is to provide a new container class that implements the **iterator protocol**.\n"
   ]
  },
  {
   "cell_type": "code",
   "execution_count": 38,
   "metadata": {},
   "outputs": [
    {
     "name": "stdout",
     "output_type": "stream",
     "text": [
      "iter called\n",
      "iter called\n",
      "[11.538461538461538, 26.923076923076923, 61.53846153846154]\n"
     ]
    }
   ],
   "source": [
    "class ReadVisits:\n",
    "    \"\"\" Iterable container\"\"\"\n",
    "    def __init__(self, data_path):\n",
    "        self.data_path = data_path\n",
    "        \n",
    "    def __iter__(self):\n",
    "        print('iter called')\n",
    "        with open(self.data_path) as f:\n",
    "            for line in f:\n",
    "                yield int(line)\n",
    "\n",
    "            \n",
    "                \n",
    "visits = ReadVisits(path)\n",
    "percentages = normalize(visits)\n",
    "print(percentages)\n",
    "assert sum(percentages) == 100.0"
   ]
  },
  {
   "cell_type": "markdown",
   "metadata": {},
   "source": [
    "## Item 32: Consider Generator Expressions for Large List Comprehensions ##\n",
    "\n",
    "Say that I want to read a file and return the numbers of characters on each line.  Doing this with a list comprehension would require holding the length of every line of the file in memory.  If the file is enormous or perhaps a never ending network socket, using list comprehensions would be problematic.  \n",
    "\n",
    "A better way would be to use **generator expressions (generator comprehensions)**, which are a generalization of list comprehensions and generators.  Generator expressions don't materialize the whole output sequence when they're run.  Instead, generator expressions evaluate to an iterator that yields one item at a time from the expression.  \n",
    "\n",
    "You can create a generator expression by putting list-comprehension-like syntax between `()` characters."
   ]
  },
  {
   "cell_type": "code",
   "execution_count": 51,
   "metadata": {},
   "outputs": [],
   "source": [
    "# create a file of random numbers to use in this example\n",
    "import random \n",
    "\n",
    "path = 'my_file.txt'\n",
    "\n",
    "with open(path, 'w') as f:\n",
    "    for _ in range(10):\n",
    "        f.write('a' * random.randint(0, 100))\n",
    "        f.write('\\n')"
   ]
  },
  {
   "cell_type": "code",
   "execution_count": 56,
   "metadata": {},
   "outputs": [
    {
     "name": "stdout",
     "output_type": "stream",
     "text": [
      "[35, 99, 48, 10, 54, 60, 13, 96, 18, 29]\n",
      "<generator object <genexpr> at 0x7f83445e1820>\n",
      "35\n",
      "99\n",
      "48\n",
      "10\n",
      "54\n",
      "60\n",
      "13\n",
      "96\n",
      "18\n",
      "29\n"
     ]
    }
   ],
   "source": [
    "# list comprehension:\n",
    "value = [len(x) for x in open(path)]\n",
    "print(value)\n",
    "\n",
    "# generator expression:\n",
    "it = (len(x) for x in open(path))\n",
    "print(it)\n",
    "\n",
    "for x in it:\n",
    "    print(x)"
   ]
  },
  {
   "cell_type": "markdown",
   "metadata": {},
   "source": [
    "Another powerful feature of generator expressions is that they can be composed together.  See this example where we take the iterator returned by the generator expression above and use it as the input for another generator expression:  \n",
    "\n",
    "Each time I advance this iterator it also advances the interiot iterator, creating a domino effect of looping, evaluating conditional expressions, and passing around inputs and outputs, all while being as memory efficient as possible."
   ]
  },
  {
   "cell_type": "code",
   "execution_count": 59,
   "metadata": {},
   "outputs": [
    {
     "name": "stdout",
     "output_type": "stream",
     "text": [
      "(35, 5.916079783099616)\n",
      "(99, 9.9498743710662)\n",
      "(48, 6.928203230275509)\n",
      "(10, 3.1622776601683795)\n",
      "(54, 7.3484692283495345)\n",
      "(60, 7.745966692414834)\n",
      "(13, 3.605551275463989)\n",
      "(96, 9.797958971132712)\n",
      "(18, 4.242640687119285)\n",
      "(29, 5.385164807134504)\n"
     ]
    }
   ],
   "source": [
    "it = (len(x) for x in open(path))\n",
    "\n",
    "roots = ((x, x**0.5) for x in it)\n",
    "\n",
    "#print(next(roots))\n",
    "# remember, the for loop will keep calling next() on the iterable object\n",
    "for r in roots:\n",
    "    print(r)"
   ]
  },
  {
   "cell_type": "markdown",
   "metadata": {},
   "source": [
    "Chaining generators together like this executes very quickly in Python.  When you're looking for a way to compose functionality that's operating on a large stream of input, geneator expressions are a great choice.  The only gotcha is that the iterators returned by generator expressions are stateful, so you must be careful not to use these iterators more than once."
   ]
  },
  {
   "cell_type": "markdown",
   "metadata": {},
   "source": [
    "## Item 33: Compose Multiple Generators with `yield from` ##\n",
    "\n",
    "The `yield from` expression allows you to yield all values from a nested genrator before returning control to the parent generator.  \n",
    "\n",
    "Let's say I have a graphical program that's using generators to animate the movement of images onscreen.  I can define two generators that yield the expected onscreen time deltas for each part of the animation that I'm looking to create:"
   ]
  },
  {
   "cell_type": "code",
   "execution_count": 68,
   "metadata": {},
   "outputs": [
    {
     "name": "stdout",
     "output_type": "stream",
     "text": [
      "Delta: 5.0\n",
      "Delta: 5.0\n",
      "Delta: 5.0\n",
      "Delta: 5.0\n",
      "Delta: 0.0\n",
      "Delta: 0.0\n",
      "Delta: 0.0\n",
      "Delta: 3.0\n",
      "Delta: 3.0\n"
     ]
    }
   ],
   "source": [
    "def move(period, speed):\n",
    "    for _ in range(period):\n",
    "        yield speed\n",
    "\n",
    "def pause(delay):\n",
    "    for _ in range(delay):\n",
    "        yield 0\n",
    "        \n",
    "def render(delta):\n",
    "    print(f'Delta: {delta:.1f}')\n",
    "    # Do whatever else is needed to move the image onscreen\n",
    "    \n",
    "def run(func):\n",
    "    for delta in func():\n",
    "        render(delta)\n",
    "        \n",
    "def animate():\n",
    "    for delta in move(4, 5.0):\n",
    "        yield delta\n",
    "    for delta in pause(3):\n",
    "        yield delta\n",
    "    for delta in move(2, 3.0):\n",
    "        yield delta\n",
    "        \n",
    "run(animate)"
   ]
  },
  {
   "cell_type": "markdown",
   "metadata": {},
   "source": [
    "The problem with the above code is the repetitive nature of the `animate` function.  The redundancy of the `for` statements and `yield` expressions for each generator adds noise and reduces readability.  This would get pretty unreadable if we had a bunch more generators that we were working with.\n",
    "\n",
    "A better way is to use the `yield from` expression, which allows you to yield all values from a nested generator before returning control to the parent generator.  `yield from` essentially causes the Python interpreter to handle the nested `for` loop and `yield` expressions boilerplate for you, which results in better performance."
   ]
  },
  {
   "cell_type": "code",
   "execution_count": 69,
   "metadata": {},
   "outputs": [
    {
     "name": "stdout",
     "output_type": "stream",
     "text": [
      "Delta: 5.0\n",
      "Delta: 5.0\n",
      "Delta: 5.0\n",
      "Delta: 5.0\n",
      "Delta: 0.0\n",
      "Delta: 0.0\n",
      "Delta: 0.0\n",
      "Delta: 3.0\n",
      "Delta: 3.0\n"
     ]
    }
   ],
   "source": [
    "def animate_composed():\n",
    "    yield from move(4, 5.0)\n",
    "    yield from pause(3)\n",
    "    yield from move(2, 3.0)\n",
    "    \n",
    "run(animate_composed)"
   ]
  },
  {
   "cell_type": "markdown",
   "metadata": {},
   "source": [
    "## Item 34: Avoid Injecting Data into Generators with `send` ##\n",
    "\n",
    "`yield` expressions provide generator functions with a simple way to produce an iterable series of output values.  However, this channel appears to be unidirectional: there's no immediately obvious way to simultaneously stream data in and out of a generator as it runs.  \n",
    "\n",
    "Python generators support the `send` method, which upgrades `yield` expressions into a two-way channel.  The `send` method can be used to provide streaming inputs to a generator at the same time it's yielding outputs.  \n",
    "\n",
    "When I call the `send` method instead of iterating the gneerator with a `for` loop or the `next` built-in function, the supplied parameter becomes the value of the `yield` expression when the generator is resumed.  "
   ]
  },
  {
   "cell_type": "code",
   "execution_count": 70,
   "metadata": {},
   "outputs": [
    {
     "name": "stdout",
     "output_type": "stream",
     "text": [
      "Output = 1\n",
      "received = None\n"
     ]
    }
   ],
   "source": [
    "def my_generator():\n",
    "    received = yield 1\n",
    "    print(f'received = {received}')\n",
    "    \n",
    "it = iter(my_generator())\n",
    "output = next(it)\n",
    "print(f'Output = {output}')\n",
    "\n",
    "try:\n",
    "    next(it)\n",
    "except StopIteration:\n",
    "    pass"
   ]
  },
  {
   "cell_type": "code",
   "execution_count": 75,
   "metadata": {},
   "outputs": [
    {
     "name": "stdout",
     "output_type": "stream",
     "text": [
      "output = 1\n",
      "received = Hello!\n"
     ]
    }
   ],
   "source": [
    "it = iter(my_generator())\n",
    "output = it.send(None)\n",
    "print(f'output = {output}')\n",
    "\n",
    "try:\n",
    "    it.send('Hello!')\n",
    "except StopIteration:\n",
    "    pass\n"
   ]
  },
  {
   "cell_type": "markdown",
   "metadata": {},
   "source": [
    "I can take advantage of this send behavior in order to modulate the amplitude of a sine wave based on an input signal, though this can quickly get messy and return unexpected results as shown below:"
   ]
  },
  {
   "cell_type": "code",
   "execution_count": 82,
   "metadata": {},
   "outputs": [
    {
     "name": "stdout",
     "output_type": "stream",
     "text": [
      "Run the modulating wave function with yield\n",
      "Output is None\n",
      "Output:   0.0\n",
      "Output:   3.5\n",
      "Output:   6.1\n",
      "Output:   2.0\n",
      "Output:   1.7\n",
      "Output:   1.0\n",
      "Output:   0.0\n",
      "Output:  -5.0\n",
      "Output:  -8.7\n",
      "Output: -10.0\n",
      "Output:  -8.7\n",
      "Output:  -5.0\n",
      "\n",
      "\n",
      "Run the modulating wave function with yield from\n",
      "Output is None\n",
      "Output:   0.0\n",
      "Output:   6.1\n",
      "Output:  -6.1\n",
      "Output is None\n",
      "Output:   0.0\n",
      "Output:   2.0\n",
      "Output:   0.0\n",
      "Output: -10.0\n",
      "Output is None\n",
      "Output:   0.0\n",
      "Output:   9.5\n",
      "Output:   5.9\n",
      "Woah, lots of unexpected Nones\n"
     ]
    }
   ],
   "source": [
    "import math\n",
    "\n",
    "\n",
    "def transmit(output):\n",
    "    if output is None:\n",
    "        print(f'Output is None')\n",
    "    else:\n",
    "        print(f'Output: {output:>5.1f}')\n",
    "\n",
    "def wave(amplitude, steps):\n",
    "    step_size = 2 * math.pi / steps\n",
    "    for step in range(steps):\n",
    "        radians = step * step_size\n",
    "        fraction = math.sin(radians)\n",
    "        output = amplitude * fraction\n",
    "        yield output\n",
    "\n",
    "def wave_modulating(steps):\n",
    "    step_size = 2 * math.pi / steps\n",
    "    amplitude = yield             # Receive initial amplitude\n",
    "    for step in range(steps):\n",
    "        radians = step * step_size\n",
    "        fraction = math.sin(radians)\n",
    "        output = amplitude * fraction\n",
    "        amplitude = yield output  # Receive next amplitude\n",
    "\n",
    "\n",
    "def run_modulating(it):\n",
    "    amplitudes = [\n",
    "        None, 7, 7, 7, 2, 2, 2, 2, 10, 10, 10, 10, 10]\n",
    "    for amplitude in amplitudes:\n",
    "        output = it.send(amplitude)\n",
    "        transmit(output)\n",
    "        \n",
    "print('Run the modulating wave function with yield')\n",
    "run_modulating(wave_modulating(12))\n",
    "print('\\n')\n",
    "\n",
    "'''\n",
    "def complex_wave():\n",
    "    yield from wave(7.0, 3)\n",
    "    yield from wave(2.0, 4)\n",
    "    yield from wave(10.0, 5)\n",
    "\n",
    "run(complex_wave())\n",
    "'''\n",
    "\n",
    "\n",
    "def complex_wave_modulating():\n",
    "    yield from wave_modulating(3)\n",
    "    yield from wave_modulating(4)\n",
    "    yield from wave_modulating(5)\n",
    "\n",
    "print('Run the modulating wave function with yield from')\n",
    "run_modulating(complex_wave_modulating())\n",
    "print('Woah, lots of unexpected Nones')"
   ]
  },
  {
   "cell_type": "markdown",
   "metadata": {},
   "source": [
    "A better way to do this is to avoid the `send` method altogether and instead provide an input iterator to a set of composed generators."
   ]
  },
  {
   "cell_type": "code",
   "execution_count": 74,
   "metadata": {},
   "outputs": [
    {
     "name": "stdout",
     "output_type": "stream",
     "text": [
      "Output:   0.0\n",
      "Output:   6.1\n",
      "Output:  -6.1\n",
      "Output:   0.0\n",
      "Output:   2.0\n",
      "Output:   0.0\n",
      "Output:  -2.0\n",
      "Output:   0.0\n",
      "Output:   9.5\n",
      "Output:   5.9\n",
      "Output:  -5.9\n",
      "Output:  -9.5\n"
     ]
    }
   ],
   "source": [
    "import math\n",
    "\n",
    "def transmit(output):\n",
    "    if output is None:\n",
    "        print(f'Output is None')\n",
    "    else:\n",
    "        print(f'Output: {output:>5.1f}')\n",
    "\n",
    "def wave_cascading(amplitude_it, steps):\n",
    "    step_size = 2 * math.pi / steps\n",
    "    for step in range(steps):\n",
    "        radians = step * step_size\n",
    "        fraction = math.sin(radians)\n",
    "        amplitude = next(amplitude_it)  # Get next input\n",
    "        output = amplitude * fraction\n",
    "        yield output\n",
    "        \n",
    "def complex_wave_cascading(amplitude_it):\n",
    "    yield from wave_cascading(amplitude_it, 3)\n",
    "    yield from wave_cascading(amplitude_it, 4)\n",
    "    yield from wave_cascading(amplitude_it, 5)\n",
    "    \n",
    "def run_cascading():\n",
    "    amplitudes = [7, 7, 7, 2, 2, 2, 2, 10, 10, 10, 10, 10]\n",
    "    it = complex_wave_cascading(iter(amplitudes))\n",
    "    for amplitude in amplitudes:\n",
    "        output = next(it)\n",
    "        transmit(output)\n",
    "        \n",
    "run_cascading()        "
   ]
  },
  {
   "cell_type": "markdown",
   "metadata": {},
   "source": [
    "## Item 35: Avoid Cuasing State Transitions in Generators with `throw`##  \n",
    "\n",
    "In addition to `yield from` expressions and the `send` method, another advanced generator feature is the `throw` method for re-raising `Exception` instances within ggenerator functions.  The way this works is simple: when the method is called, the next occurance ofa  `yield` expression re-raises the provided `Exception` instance  after its output is received instead of continuing normally:"
   ]
  },
  {
   "cell_type": "code",
   "execution_count": 84,
   "metadata": {},
   "outputs": [
    {
     "name": "stdout",
     "output_type": "stream",
     "text": [
      "1\n",
      "2\n"
     ]
    },
    {
     "ename": "MyError",
     "evalue": "test error",
     "output_type": "error",
     "traceback": [
      "\u001b[0;31m---------------------------------------------------------------------------\u001b[0m",
      "\u001b[0;31mMyError\u001b[0m                                   Traceback (most recent call last)",
      "\u001b[0;32m<ipython-input-84-996d44bb4bd6>\u001b[0m in \u001b[0;36m<module>\u001b[0;34m\u001b[0m\n\u001b[1;32m     10\u001b[0m \u001b[0mprint\u001b[0m\u001b[0;34m(\u001b[0m\u001b[0mnext\u001b[0m\u001b[0;34m(\u001b[0m\u001b[0mit\u001b[0m\u001b[0;34m)\u001b[0m\u001b[0;34m)\u001b[0m\u001b[0;34m\u001b[0m\u001b[0;34m\u001b[0m\u001b[0m\n\u001b[1;32m     11\u001b[0m \u001b[0mprint\u001b[0m\u001b[0;34m(\u001b[0m\u001b[0mnext\u001b[0m\u001b[0;34m(\u001b[0m\u001b[0mit\u001b[0m\u001b[0;34m)\u001b[0m\u001b[0;34m)\u001b[0m\u001b[0;34m\u001b[0m\u001b[0;34m\u001b[0m\u001b[0m\n\u001b[0;32m---> 12\u001b[0;31m \u001b[0mprint\u001b[0m\u001b[0;34m(\u001b[0m\u001b[0mit\u001b[0m\u001b[0;34m.\u001b[0m\u001b[0mthrow\u001b[0m\u001b[0;34m(\u001b[0m\u001b[0mMyError\u001b[0m\u001b[0;34m(\u001b[0m\u001b[0;34m'test error'\u001b[0m\u001b[0;34m)\u001b[0m\u001b[0;34m)\u001b[0m\u001b[0;34m)\u001b[0m\u001b[0;34m\u001b[0m\u001b[0;34m\u001b[0m\u001b[0m\n\u001b[0m",
      "\u001b[0;32m<ipython-input-84-996d44bb4bd6>\u001b[0m in \u001b[0;36mmy_generator\u001b[0;34m()\u001b[0m\n\u001b[1;32m      4\u001b[0m \u001b[0;32mdef\u001b[0m \u001b[0mmy_generator\u001b[0m\u001b[0;34m(\u001b[0m\u001b[0;34m)\u001b[0m\u001b[0;34m:\u001b[0m\u001b[0;34m\u001b[0m\u001b[0;34m\u001b[0m\u001b[0m\n\u001b[1;32m      5\u001b[0m     \u001b[0;32myield\u001b[0m \u001b[0;36m1\u001b[0m\u001b[0;34m\u001b[0m\u001b[0;34m\u001b[0m\u001b[0m\n\u001b[0;32m----> 6\u001b[0;31m     \u001b[0;32myield\u001b[0m \u001b[0;36m2\u001b[0m\u001b[0;34m\u001b[0m\u001b[0;34m\u001b[0m\u001b[0m\n\u001b[0m\u001b[1;32m      7\u001b[0m     \u001b[0;32myield\u001b[0m \u001b[0;36m3\u001b[0m\u001b[0;34m\u001b[0m\u001b[0;34m\u001b[0m\u001b[0m\n\u001b[1;32m      8\u001b[0m \u001b[0;34m\u001b[0m\u001b[0m\n",
      "\u001b[0;31mMyError\u001b[0m: test error"
     ]
    }
   ],
   "source": [
    "class MyError(Exception):\n",
    "    pass\n",
    "\n",
    "def my_generator():\n",
    "    yield 1\n",
    "    yield 2\n",
    "    yield 3\n",
    "    \n",
    "it = my_generator()\n",
    "print(next(it))\n",
    "print(next(it))\n",
    "print(it.throw(MyError('test error')))"
   ]
  },
  {
   "cell_type": "markdown",
   "metadata": {},
   "source": [
    "Using throw harms readability because it requries additional nesting and boilerplate in order to riase and catch exceptions.  \n",
    "\n",
    "A better way to provide exceptional behavior in generators is to use a class that implements the `__iter__` method along with methods to cause exceptional state transitions."
   ]
  },
  {
   "cell_type": "code",
   "execution_count": 86,
   "metadata": {},
   "outputs": [
    {
     "name": "stdout",
     "output_type": "stream",
     "text": [
      "3 ticks remaining\n",
      "2 ticks remaining\n",
      "1 ticks remaining\n",
      "0 ticks remaining\n"
     ]
    }
   ],
   "source": [
    "class Timer:\n",
    "    def __init__(self, period):\n",
    "        self.current = period\n",
    "        self.period = period\n",
    "        \n",
    "    def reset(self):\n",
    "        self.current = self.period\n",
    "        \n",
    "    def __iter__(self):\n",
    "        while self.current:\n",
    "            self.current -= 1\n",
    "            yield self.current\n",
    "            \n",
    "def check_for_reset():\n",
    "    # poll for external event\n",
    "    pass\n",
    "\n",
    "def announce(remaining):\n",
    "    print(f'{remaining} ticks remaining')\n",
    "    \n",
    "def run():\n",
    "    timer = Timer(4)\n",
    "    for current in timer:\n",
    "        if check_for_reset():\n",
    "            timer.reset()\n",
    "        announce(current)\n",
    "        \n",
    "run()"
   ]
  },
  {
   "cell_type": "markdown",
   "metadata": {},
   "source": [
    "## Item 36: Consider `itertools` when Working with Iterators and Generators ##\n",
    "\n",
    "The `itertools` built-in module conatins a large number of functions that are useful for organizing and interacting with iterators.  Whenever you find yourself dealing with tricky iteration code, it's worth looking at hte `itertools` documentation again to see if there's anything in there for you to use.\n",
    "\n"
   ]
  },
  {
   "cell_type": "markdown",
   "metadata": {},
   "source": [
    "### Linking iterators together"
   ]
  },
  {
   "cell_type": "code",
   "execution_count": 98,
   "metadata": {},
   "outputs": [
    {
     "name": "stdout",
     "output_type": "stream",
     "text": [
      "--itertools.chain()\n",
      "[1, 2, 3, 4, 5, 6]\n",
      "\n",
      "--itertools.repeat()\n",
      "['hello', 'hello', 'hello']\n",
      "\n",
      "--itertools.cycle()\n",
      "[1, 2, 1, 2, 1, 2, 1, 2, 1, 2]\n",
      "\n",
      "--itertools.tee()\n",
      "['first', 'second']\n",
      "['first', 'second']\n",
      "['first', 'second']\n",
      "\n",
      "--itertools.zip_longest()\n",
      "zip:         [('one', 1), ('two', 2)]\n",
      "zip_longest: [('one', 1), ('two', 2), ('three', 'nope')]\n"
     ]
    }
   ],
   "source": [
    "import itertools\n",
    "\n",
    "# Use chain to combime multiple iterators into a single sequential iterator:\n",
    "print('--itertools.chain()')\n",
    "it = itertools.chain([1, 2, 3],  [4, 5, 6])\n",
    "print(list(it))\n",
    "\n",
    "# use repeat to output a single value forever, or use the second parameter\n",
    "# to specify a maximum number of times:\n",
    "print('\\n--itertools.repeat()')\n",
    "it = itertools.repeat('hello', 3)\n",
    "print(list(it))\n",
    "\n",
    "# Use cycle to repeat an iterator's item forever:\n",
    "print('\\n--itertools.cycle()')\n",
    "it = itertools.cycle([1, 2])\n",
    "result = [next(it) for _ in range(10)]\n",
    "print(result)\n",
    "\n",
    "# Use tee to split a single iterator into the number of parallel iterators\n",
    "# specified by the second parameter\n",
    "print('\\n--itertools.tee()')\n",
    "it1, it2, it3 = itertools.tee(['first', 'second'], 3)\n",
    "print(list(it1))\n",
    "print(list(it2))\n",
    "print(list(it3))\n",
    "\n",
    "# Use zip_longest to return a placeholder value when an iterator is exhausted\n",
    "# which may happen if iterators have different lengths:\n",
    "print('\\n--itertools.zip_longest()')\n",
    "keys = ['one', 'two', 'three']\n",
    "values = [1, 2]\n",
    "\n",
    "normal = list(zip(keys, values))\n",
    "print('zip:        ', normal)\n",
    "\n",
    "it = itertools.zip_longest(keys, values, fillvalue='nope')\n",
    "longest = list(it)\n",
    "print('zip_longest:', longest)"
   ]
  },
  {
   "cell_type": "markdown",
   "metadata": {},
   "source": [
    "### Filtering Items from an Iterator"
   ]
  },
  {
   "cell_type": "code",
   "execution_count": 105,
   "metadata": {},
   "outputs": [
    {
     "name": "stdout",
     "output_type": "stream",
     "text": [
      "\n",
      "--itertools.isslice()\n",
      "First five:  [1, 2, 3, 4, 5]\n",
      "Middle odds: [3, 5, 7]\n",
      "\n",
      "--itertools.takewhile(less_than_seven)\n",
      "[1, 2, 3, 4, 5, 6]\n",
      "\n",
      "--itertools.dropwhile(less_than_seven)\n",
      "[7, 8, 9, 10]\n",
      "\n",
      "--filter(evens)\n",
      "Filter:       [2, 4, 6, 8, 10]\n",
      "\n",
      "--itertools.filterfalse(evens)\n",
      "Filter false: [1, 3, 5, 7, 9]\n"
     ]
    }
   ],
   "source": [
    "# Use isslice to slice an iterator by numerical indices without copying.\n",
    "print('\\n--itertools.isslice()')\n",
    "\n",
    "values = [1, 2, 3, 4, 5, 6, 7, 8, 9, 10]\n",
    "\n",
    "first_five = itertools.islice(values, 5)\n",
    "print('First five: ', list(first_five))\n",
    "\n",
    "middle_odds = itertools.islice(values, 2, 8, 2)\n",
    "print('Middle odds:', list(middle_odds))\n",
    "\n",
    "\n",
    "# Use takewhile to return items from an iterator until a predicate function\n",
    "# returns False for an item\n",
    "print('\\n--itertools.takewhile(less_than_seven)')\n",
    "\n",
    "values = [1, 2, 3, 4, 5, 6, 7, 8, 9, 10]\n",
    "less_than_seven = lambda x: x < 7\n",
    "it = itertools.takewhile(less_than_seven, values)\n",
    "print(list(it))\n",
    "\n",
    "\n",
    "# Use dropwhile, which is the opposite of takewhile, to skip items\n",
    "# from an iterator until the predicate function returns True for the first time\n",
    "print('\\n--itertools.dropwhile(less_than_seven)')\n",
    "\n",
    "it = itertools.dropwhile(less_than_seven, values)\n",
    "print(list(it))\n",
    "\n",
    "\n",
    "# Use filterfalse, which is the opposite of the filter built-in function,\n",
    "# to return all items from an iterator where a predicate function returns False\n",
    "print('\\n--filter(evens)')\n",
    "\n",
    "evens = lambda x: x % 2 == 0\n",
    "\n",
    "filter_result = filter(evens, values)\n",
    "print('Filter:      ', list(filter_result))\n",
    "\n",
    "print('\\n--itertools.filterfalse(evens)')\n",
    "filter_false_result = itertools.filterfalse(evens, values)\n",
    "print('Filter false:', list(filter_false_result))"
   ]
  },
  {
   "cell_type": "markdown",
   "metadata": {},
   "source": [
    "### Producing Combinations of Items from Iterators"
   ]
  },
  {
   "cell_type": "code",
   "execution_count": 114,
   "metadata": {},
   "outputs": [
    {
     "name": "stdout",
     "output_type": "stream",
     "text": [
      "\n",
      "--itertools.accumulate(values)\n",
      "Sum:    [1, 3, 6, 10, 15, 21, 28, 36, 45, 55]\n",
      "Modulo: [1, 3, 6, 10, 15, 1, 8, 16, 5, 15]\n",
      "\n",
      "--itertools.product()\n",
      "Single:   [(1, 1), (1, 2), (2, 1), (2, 2)]\n",
      "Multiple: [(1, 'a'), (1, 'b'), (2, 'a'), (2, 'b')]\n",
      "\n",
      "--itertools.permutations()\n",
      "[(1, 2),\n",
      " (1, 3),\n",
      " (1, 4),\n",
      " (2, 1),\n",
      " (2, 3),\n",
      " (2, 4),\n",
      " (3, 1),\n",
      " (3, 2),\n",
      " (3, 4),\n",
      " (4, 1),\n",
      " (4, 2),\n",
      " (4, 3)]\n",
      "\n",
      "--itertools.combinations()\n",
      "[(1, 2), (1, 3), (1, 4), (2, 3), (2, 4), (3, 4)]\n",
      "\n",
      "--itertools.permutations_with_replacement()\n",
      "[(1, 1), (1, 2), (1, 3), (1, 4), (2, 2), (2, 3), (2, 4), (3, 3), (3, 4), (4, 4)]\n"
     ]
    }
   ],
   "source": [
    "# import the pretty print module to pretty print arbitrary python\n",
    "# data structures in a form that can be used as input to the interpreter\n",
    "from pprint import pprint\n",
    "\n",
    "# Use accumulate to fold an item from the iterator into a running\n",
    "# value by applying a function that takes two parameters.  \n",
    "# it outputs the curren accumulated result for each input value:\n",
    "print('\\n--itertools.accumulate(values)')\n",
    "\n",
    "values = [1, 2, 3, 4, 5, 6, 7, 8, 9, 10]\n",
    "sum_reduce = itertools.accumulate(values)\n",
    "print('Sum:   ', list(sum_reduce))\n",
    "\n",
    "def sum_modulo_20(first, second):\n",
    "    output = first + second\n",
    "    return output % 20\n",
    "\n",
    "modulo_reduce = itertools.accumulate(values, sum_modulo_20)\n",
    "print('Modulo:', list(modulo_reduce))\n",
    "\n",
    "\n",
    "# Use product to return the Cartesian product of items from\n",
    "# one or more iterators, which is a nice alternative to using deply\n",
    "# nested list comprehensions:\n",
    "print('\\n--itertools.product()')\n",
    "\n",
    "single = itertools.product([1, 2], repeat=2)\n",
    "print('Single:  ', list(single))\n",
    "\n",
    "multiple = itertools.product([1, 2], ['a', 'b'])\n",
    "print('Multiple:', list(multiple))\n",
    "\n",
    "\n",
    "# Use permutations to return the unique ordered permutations\n",
    "# of length N with items from an iterator:\n",
    "print('\\n--itertools.permutations()')\n",
    "\n",
    "it = itertools.permutations([1, 2, 3, 4], 2)\n",
    "original_print = print\n",
    "print = pprint\n",
    "print(list(it))\n",
    "print = original_print\n",
    "\n",
    "\n",
    "# Use combinations to return the unordered combinations\n",
    "# of length N with unrepeated items from an iterator:\n",
    "print('\\n--itertools.combinations()')\n",
    "\n",
    "it = itertools.combinations([1, 2, 3, 4], 2)\n",
    "print(list(it))\n",
    "\n",
    "\n",
    "# combinations_with_replacement is the same as combinations\n",
    "# but repeated values are allowed\n",
    "print('\\n--itertools.permutations_with_replacement()')\n",
    "\n",
    "it = itertools.combinations_with_replacement([1, 2, 3, 4], 2)\n",
    "original_print = print\n",
    "print = pprint\n",
    "print(list(it))\n",
    "print = original_print"
   ]
  },
  {
   "cell_type": "code",
   "execution_count": null,
   "metadata": {},
   "outputs": [],
   "source": []
  }
 ],
 "metadata": {
  "kernelspec": {
   "display_name": "Python 3",
   "language": "python",
   "name": "python3"
  },
  "language_info": {
   "codemirror_mode": {
    "name": "ipython",
    "version": 3
   },
   "file_extension": ".py",
   "mimetype": "text/x-python",
   "name": "python",
   "nbconvert_exporter": "python",
   "pygments_lexer": "ipython3",
   "version": "3.8.10"
  }
 },
 "nbformat": 4,
 "nbformat_minor": 4
}
