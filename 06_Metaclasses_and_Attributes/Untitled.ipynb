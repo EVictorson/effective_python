{
 "cells": [
  {
   "cell_type": "code",
   "execution_count": 19,
   "metadata": {},
   "outputs": [
    {
     "data": {
      "text/plain": [
       "{(0, 0),\n",
       " (0, 7),\n",
       " (1, 0),\n",
       " (1, 7),\n",
       " (2, 0),\n",
       " (2, 7),\n",
       " (3, 0),\n",
       " (3, 7),\n",
       " (4, 0),\n",
       " (4, 7),\n",
       " (5, 0),\n",
       " (5, 7),\n",
       " (6, 0),\n",
       " (6, 7),\n",
       " (7, 0),\n",
       " (7, 7),\n",
       " (8, 0),\n",
       " (8, 7),\n",
       " (9, 0),\n",
       " (9, 7)}"
      ]
     },
     "execution_count": 19,
     "metadata": {},
     "output_type": "execute_result"
    }
   ],
   "source": [
    "import pprint\n",
    "x = 10\n",
    "y = 8\n",
    "obstacle = {(i, 0) for i in range(x)}\n",
    "\n",
    "obstacle.update({(i, y - 1) for i in range(x)})\n",
    "#obstacle2 = {(i, y - 1) for i in range(x)}\n",
    "\n",
    "\n",
    "obstacle\n",
    "#print('\\n')\n",
    "#print(obstacle2)"
   ]
  },
  {
   "cell_type": "code",
   "execution_count": 18,
   "metadata": {},
   "outputs": [
    {
     "data": {
      "text/plain": [
       "{(0, 0),\n",
       " (0, 7),\n",
       " (1, 0),\n",
       " (1, 7),\n",
       " (2, 0),\n",
       " (2, 7),\n",
       " (3, 0),\n",
       " (3, 7),\n",
       " (4, 0),\n",
       " (4, 7),\n",
       " (5, 0),\n",
       " (5, 7),\n",
       " (6, 0),\n",
       " (6, 7),\n",
       " (7, 0),\n",
       " (7, 7),\n",
       " (8, 0),\n",
       " (8, 7),\n",
       " (9, 0),\n",
       " (9, 7)}"
      ]
     },
     "execution_count": 18,
     "metadata": {},
     "output_type": "execute_result"
    }
   ],
   "source": [
    "obs = set()\n",
    "\n",
    "for i in range(x):\n",
    "    obs.add((i, 0))\n",
    "\n",
    "for i in range(x):\n",
    "    obs.add((i, y - 1))    \n",
    "    \n",
    "obs"
   ]
  },
  {
   "cell_type": "code",
   "execution_count": 44,
   "metadata": {},
   "outputs": [
    {
     "data": {
      "text/plain": [
       "9.1082749539637"
      ]
     },
     "execution_count": 44,
     "metadata": {},
     "output_type": "execute_result"
    }
   ],
   "source": [
    "import timeit\n",
    "\n",
    "setup = '''\n",
    "def create_obstacles_add(x, y):\n",
    "    obstacle = set()\n",
    "    for i in range(x):\n",
    "        obstacle.add((i, 0))\n",
    "    for i in range(x):\n",
    "        obstacle.add((i, y - 1)) \n",
    "    for i in range(y):\n",
    "        obstacle.add((0, i))\n",
    "    for i in range(y):\n",
    "        obstacle.add((x - 1, i))\n",
    "    \n",
    "    return obstacle\n",
    "'''\n",
    "\n",
    "stmt = 'create_obstacles_add(40, 30)'\n",
    "    \n",
    "setup2 = '''\n",
    "def create_obstacles_update(x, y):\n",
    "    obstacle = {(i, 0) for i in range(x)}\n",
    "    obstacle.update({(i, y - 1) for i in range(x)})\n",
    "    obstacle.update({(0,i) for i in range(y)})\n",
    "    obstacle.update({(x - 1, i) for i in range(y)})\n",
    "    \n",
    "    return obstacle\n",
    "'''\n",
    "\n",
    "\n",
    "stmt2 = 'create_obstacles_update(40, 30)'\n",
    "\n",
    "timeit.timeit(stmt, setup, number=1000000)\n"
   ]
  },
  {
   "cell_type": "code",
   "execution_count": 45,
   "metadata": {},
   "outputs": [
    {
     "data": {
      "text/plain": [
       "8.440835892979521"
      ]
     },
     "execution_count": 45,
     "metadata": {},
     "output_type": "execute_result"
    }
   ],
   "source": [
    "timeit.timeit(stmt2, setup2, number=1000000)\n"
   ]
  },
  {
   "cell_type": "code",
   "execution_count": 51,
   "metadata": {},
   "outputs": [
    {
     "data": {
      "text/plain": [
       "[(-1, 0), (-1, 1), (0, 1), (1, 1), (1, 0), (1, -1), (0, -1), (-1, -1)]"
      ]
     },
     "execution_count": 51,
     "metadata": {},
     "output_type": "execute_result"
    }
   ],
   "source": [
    "AVAILABLE_MOTIONS = [(-1, 0), (-1, 1), (0, 1), (1, 1),\n",
    "                         (1, 0), (1, -1), (0, -1), (-1, -1)]\n",
    "AVAILABLE_MOTIONS"
   ]
  },
  {
   "cell_type": "code",
   "execution_count": 49,
   "metadata": {},
   "outputs": [],
   "source": [
    "AVAILABLE_MOTIONS_2 = [(x, y) for x in [-1, 0, 1] for y in [-1, 0, 1]]"
   ]
  },
  {
   "cell_type": "code",
   "execution_count": 50,
   "metadata": {},
   "outputs": [
    {
     "data": {
      "text/plain": [
       "[(-1, -1), (-1, 0), (-1, 1), (0, -1), (0, 0), (0, 1), (1, -1), (1, 0), (1, 1)]"
      ]
     },
     "execution_count": 50,
     "metadata": {},
     "output_type": "execute_result"
    }
   ],
   "source": [
    "AVAILABLE_MOTIONS_2"
   ]
  },
  {
   "cell_type": "code",
   "execution_count": null,
   "metadata": {},
   "outputs": [],
   "source": []
  }
 ],
 "metadata": {
  "kernelspec": {
   "display_name": "Python 3",
   "language": "python",
   "name": "python3"
  },
  "language_info": {
   "codemirror_mode": {
    "name": "ipython",
    "version": 3
   },
   "file_extension": ".py",
   "mimetype": "text/x-python",
   "name": "python",
   "nbconvert_exporter": "python",
   "pygments_lexer": "ipython3",
   "version": "3.8.10"
  }
 },
 "nbformat": 4,
 "nbformat_minor": 4
}
