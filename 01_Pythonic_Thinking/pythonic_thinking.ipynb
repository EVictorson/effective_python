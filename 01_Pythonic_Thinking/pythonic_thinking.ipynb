{
 "cells": [
  {
   "cell_type": "markdown",
   "metadata": {},
   "source": [
    "# Chapter 1: Pythonic Thinking #"
   ]
  },
  {
   "cell_type": "markdown",
   "metadata": {},
   "source": [
    "## Item 1: Know which version of python you're using##\n",
    "\n",
    "You can either use (from the command line)\n",
    "`python3 --version` OR from runtime do:"
   ]
  },
  {
   "cell_type": "code",
   "execution_count": 4,
   "metadata": {},
   "outputs": [
    {
     "name": "stdout",
     "output_type": "stream",
     "text": [
      "sys.version_info(major=3, minor=8, micro=10, releaselevel='final', serial=0)\n",
      "3.8.10 (default, Jun  2 2021, 10:49:15) \n",
      "[GCC 9.4.0]\n"
     ]
    }
   ],
   "source": [
    "import sys\n",
    "print(sys.version_info)\n",
    "print(sys.version)"
   ]
  },
  {
   "cell_type": "markdown",
   "metadata": {},
   "source": [
    "## Item 2: Follow the PEP8 style guide##\n",
    "\n",
    "use 4 spaces, not tabs...  \n",
    "tl;dr use pylint: `pyling <file> -r y` "
   ]
  },
  {
   "cell_type": "markdown",
   "metadata": {},
   "source": [
    "## Item 3: Know the differences between bytes and str##\n",
    "\n",
    "In python, there are two types that represent sequences of character data: `bytes` and `str`.  Instances of `bytes` contain raw, unsigned 8-bit values.  Instances of `str` contain Unicode code points that represent textual characters from human languages.  Importantly, `str` instances do not have an associated binary encoding, and `bytes` instances do not have an associated text encoding.  To convert Unicode data to binary data, you must call the `encode` method of `str`.  You can explicitly specify the encoding you want to use for these methods, or accept the system default, which is commonly UTF-8.  \n",
    "\n",
    "You can also use most binary operators to compare instances of the same class, such as `assert b'red' > b'blue'`"
   ]
  },
  {
   "cell_type": "code",
   "execution_count": 9,
   "metadata": {},
   "outputs": [
    {
     "name": "stdout",
     "output_type": "stream",
     "text": [
      "'foo'\n",
      "'bar'\n",
      "b'foo'\n",
      "b'bar'\n"
     ]
    }
   ],
   "source": [
    "def to_str(bytes_or_str):\n",
    "    \"\"\" \n",
    "    function to take a bytes or str instance and always return a str\n",
    "    \"\"\"\n",
    "    if isinstance(bytes_or_str, bytes):\n",
    "        value = bytes_or_str.decode('utf-8')\n",
    "    else:\n",
    "        value = bytes_or_str\n",
    "    return value\n",
    "\n",
    "print(repr(to_str(b'foo')))\n",
    "print(repr(to_str('bar')))\n",
    "\n",
    "\n",
    "def to_bytes(bytes_or_str):\n",
    "    \"\"\"\n",
    "    function to take a bytes or str instance and always return a bytes\n",
    "    \"\"\"\n",
    "    if isinstance(bytes_or_str, str):\n",
    "        value = bytes_or_str.encode('utf-8')\n",
    "    else:\n",
    "        value = bytes_or_str\n",
    "    return value\n",
    "\n",
    "print(repr(to_bytes(b'foo')))\n",
    "print(repr(to_bytes('bar')))\n"
   ]
  },
  {
   "cell_type": "markdown",
   "metadata": {},
   "source": [
    "## Item 4: Prefer Interpolated F-Strings Over C-Style Format STrings and str.format##\n",
    "\n",
    "There are 4 problems with c-style format strings in python:\n",
    "1. If you change the type or order of data value sin the tuple on the right side of the \n",
    "formatting expression, you can get errors due to type conversion incompatibility.\n",
    "2. They become difficult to read when you need to make small modifications to values before formatting them into a string - and this is an extremely common need.\n",
    "3. If you want to use the same value in a format string multiple times, you have to repeat it in the right side tuple.\n",
    "4. Using dictionaries in formatting expressions also increases verbosity.\n",
    "\n",
    "To ameliorate these issues python 3 added support for *advanced string formatting* that is more expressive than the old C-Style format strings that use the % operator; this new functionality can be accessed through the `format` built-in function."
   ]
  },
  {
   "cell_type": "code",
   "execution_count": 11,
   "metadata": {},
   "outputs": [
    {
     "name": "stdout",
     "output_type": "stream",
     "text": [
      "1,234.57\n"
     ]
    }
   ],
   "source": [
    "a = 1234.5678\n",
    "formatted = format(a, ',.2f')\n",
    "print(formatted)"
   ]
  },
  {
   "cell_type": "markdown",
   "metadata": {},
   "source": [
    "This can also be used to format multiple values together by calling the new `format` method of the `str` type."
   ]
  },
  {
   "cell_type": "code",
   "execution_count": 14,
   "metadata": {},
   "outputs": [
    {
     "name": "stdout",
     "output_type": "stream",
     "text": [
      "my_var = 1.234\n"
     ]
    }
   ],
   "source": [
    "key = 'my_var'\n",
    "value = 1.234\n",
    "\n",
    "formatted = '{} = {}'.format(key, value)\n",
    "print(formatted)"
   ]
  },
  {
   "cell_type": "markdown",
   "metadata": {},
   "source": [
    "you can also optionally provide a colon cahracter followed by format specifiers to customize how values will be converted into strings"
   ]
  },
  {
   "cell_type": "code",
   "execution_count": 16,
   "metadata": {},
   "outputs": [
    {
     "name": "stdout",
     "output_type": "stream",
     "text": [
      "my_var     = 1.23\n"
     ]
    }
   ],
   "source": [
    "formatted = '{:<10} = {:.2f}'.format(key, value)\n",
    "print(formatted)"
   ]
  },
  {
   "cell_type": "markdown",
   "metadata": {},
   "source": [
    "Python 3.6 added *interpolated format strings* - f-strings for short - to fully solve issues 1-4 above once and for all.  F-strings solve problem number 4 by completely eliminating the redundancy of providing keys and values to be formatted.  They achieve this pithiness by allowing you to reference all names in the current python scope as part of a formatting expression."
   ]
  },
  {
   "cell_type": "code",
   "execution_count": 19,
   "metadata": {},
   "outputs": [
    {
     "name": "stdout",
     "output_type": "stream",
     "text": [
      "my_var = 1.234\n"
     ]
    }
   ],
   "source": [
    "key = 'my_var'\n",
    "value = 1.234\n",
    "\n",
    "formatted = f'{key} = {value}'\n",
    "print(formatted)"
   ]
  },
  {
   "cell_type": "markdown",
   "metadata": {},
   "source": [
    "F-strings also enable you to put a full python expression within the placeholder braces, solving problem #2 from above by allowing small modifications to the avlues being formatted with concise syntax."
   ]
  },
  {
   "cell_type": "code",
   "execution_count": 38,
   "metadata": {},
   "outputs": [
    {
     "name": "stdout",
     "output_type": "stream",
     "text": [
      "#1: Avocados   = 1\n",
      "#1: Avocados   = 1\n",
      "#1: Avocados   = 1\n",
      "#2: Bananas    = 2\n",
      "#2: Bananas    = 2\n",
      "#2: Bananas    = 2\n",
      "#3: Cherries   = 15\n",
      "#3: Cherries   = 15\n",
      "#3: Cherries   = 15\n"
     ]
    }
   ],
   "source": [
    "pantry = [\n",
    "    ('avocados', 1.25),\n",
    "    ('bananas', 2.5),\n",
    "    ('cherries', 15),\n",
    "]\n",
    "\n",
    "# comparing C-style, format and f-string formatting\n",
    "for i, (item, count) in enumerate(pantry):\n",
    "    old_style = '#%d: %-10s = %d' % (i+1, item.title(), round(count))\n",
    "    \n",
    "    new_style = '#{}: {:<10s} = {}'.format(i+1, item.title(), round(count))\n",
    "    \n",
    "    f_string = f'#{i+1}: {item.title():<10s} = {round(count)}'\n",
    "    \n",
    "    print(old_style)\n",
    "    print(new_style)\n",
    "    print(f_string)\n",
    "    \n",
    "    assert old_style == new_style == f_string\n"
   ]
  },
  {
   "cell_type": "markdown",
   "metadata": {},
   "source": [
    "## Item 5: Write Helper Functions Instead of Complex Expressions ##\n",
    "\n",
    "The empty string, the empty list, and zero all evaluate to `False` implicitly.  \n",
    "The behavior of the `get` method of dictionaries is to return its second argument if the key doesn't exist in the dictionary.  \n",
    "Use if/else or ternary expressions:  \n",
    "`red_str = my_values.get('red', [''])`  \n",
    "`red = int(red_str[0]) if red_str[0] else 0`\n",
    "\n",
    "Beware not to abuse these pithy statements and create a hard to read single-line expression."
   ]
  },
  {
   "cell_type": "markdown",
   "metadata": {},
   "source": [
    "## Item 6: Prefer Multiple Assignment Unpacking Over Indexing##\n",
    "Python has a built-in tuple type that can be used to create immutable, ordered sequences of values.  Besides the immutability of tuples, one of their key features is known as `tuple unpacking` which allows for assigning multiple values in a single statement.  \n",
    "Tuple unpacking has less visual noise than accessing the typle's indices, and it often requires fewer lines.\n"
   ]
  },
  {
   "cell_type": "code",
   "execution_count": 40,
   "metadata": {},
   "outputs": [
    {
     "name": "stdout",
     "output_type": "stream",
     "text": [
      "Peanut butter and Jelly\n"
     ]
    }
   ],
   "source": [
    "item = ('Peanut butter', 'Jelly')\n",
    "first, second = item # tuple unpacking\n",
    "print(first, 'and', second)"
   ]
  },
  {
   "cell_type": "markdown",
   "metadata": {},
   "source": [
    "You can even use unpacking to swap values in place without the need to create temporary variables:"
   ]
  },
  {
   "cell_type": "code",
   "execution_count": 46,
   "metadata": {},
   "outputs": [
    {
     "name": "stdout",
     "output_type": "stream",
     "text": [
      "['arugula', 'bacon', 'carrots', 'pretzels']\n"
     ]
    }
   ],
   "source": [
    "def bubble_sort(a):\n",
    "    \"\"\" Bubble sort an input list in place \"\"\"\n",
    "    for _ in range(len(a)):\n",
    "        for i in range(1, len(a)):\n",
    "            if a[i] < a[i-1]:\n",
    "                a[i-1], a[i] = a[i], a[i-1] #swap\n",
    "                \n",
    "names = ['pretzels', 'carrots', 'arugula', 'bacon']\n",
    "bubble_sort(names)\n",
    "print(names)\n"
   ]
  },
  {
   "cell_type": "code",
   "execution_count": 48,
   "metadata": {},
   "outputs": [],
   "source": [
    "# you can also perform introspection by typing the object name followed by a question mark (?)\n",
    "names?"
   ]
  },
  {
   "cell_type": "markdown",
   "metadata": {},
   "source": [
    "Another valuable application of unpacking is in the target list of for loops and similar constructs, such as comprehensions and generator expressions.\n",
    "\n",
    "Compare this verbose way:\n"
   ]
  },
  {
   "cell_type": "code",
   "execution_count": 63,
   "metadata": {},
   "outputs": [
    {
     "name": "stdout",
     "output_type": "stream",
     "text": [
      "#1: bacon has 350 calories\n",
      "#2: donut has 240 calories\n",
      "#3: muffin has 190 calories\n"
     ]
    }
   ],
   "source": [
    "snacks = [('bacon', 350), ('donut', 240), ('muffin', 190)]\n",
    "for i in range(len(snacks)):\n",
    "    item = snacks[i]\n",
    "    name = item[0]\n",
    "    calories = item[1]\n",
    "    print(f'#{i+1}: {name} has {calories} calories')"
   ]
  },
  {
   "cell_type": "markdown",
   "metadata": {},
   "source": [
    "To this succinct pythonic way of tuple unpacking with the `enumerate` built-in function"
   ]
  },
  {
   "cell_type": "code",
   "execution_count": 65,
   "metadata": {},
   "outputs": [
    {
     "name": "stdout",
     "output_type": "stream",
     "text": [
      "#0: bacon has 350 calories\n",
      "#1: donut has 240 calories\n",
      "#2: muffin has 190 calories\n"
     ]
    }
   ],
   "source": [
    "snacks = [('bacon', 350), ('donut', 240), ('muffin', 190)]\n",
    "for rank, (name, calories) in enumerate(snacks):\n",
    "    print(f'#{rank}: {name} has {calories} calories')"
   ]
  },
  {
   "cell_type": "markdown",
   "metadata": {},
   "source": [
    "## Item 7: Prefer enumerate Over range ##\n",
    "The `range` built-in function is useful for loops that iterate over a set of integers.  When you have a data structure to iterate over, like a list of strings, you can loop directly over the sequence instead.\n",
    "\n",
    "Often you'll want to iterate over a list and also know the index of the current item in the list; for this case use the built-in `enumerate` function.  `enumerate` wrapes any iterator with a lazy generator.  `enumerate` yields pairs of the loop index and the next value from the given iterator, and can take in an optional second parameter that indicates at what value the loop index should start at.\n"
   ]
  },
  {
   "cell_type": "code",
   "execution_count": 77,
   "metadata": {},
   "outputs": [
    {
     "name": "stdout",
     "output_type": "stream",
     "text": [
      "vanilla is delicious!\n",
      "chocolate is delicious!\n",
      "pecan is delicious!\n",
      "strawberry is delicious!\n",
      "\n",
      "Using the range and len functions:\n",
      "1: vanilla\n",
      "2: chocolate\n",
      "3: pecan\n",
      "4: strawberry\n",
      "\n",
      "Using the enumerate function and stepping through the generator manually:\n",
      "(0, 'vanilla')\n",
      "(1, 'chocolate')\n",
      "(2, 'pecan')\n",
      "(3, 'strawberry')\n",
      "\n",
      "Using the enumerate function in a for loop:\n",
      "1: vanilla\n",
      "2: chocolate\n",
      "3: pecan\n",
      "4: strawberry\n",
      "\n",
      "Using the enumerate function in a for loop starting at index 1:\n",
      "1: vanilla\n",
      "2: chocolate\n",
      "3: pecan\n",
      "4: strawberry\n"
     ]
    }
   ],
   "source": [
    "flavor_list = ['vanilla', 'chocolate', 'pecan', 'strawberry']\n",
    "for flavor in flavor_list:\n",
    "    print(f'{flavor} is delicious!')\n",
    "    \n",
    "print('\\nUsing the range and len functions:')    \n",
    "for i in range(len(flavor_list)):\n",
    "    flavor = flavor_list[i]\n",
    "    print(f'{i+1}: {flavor}')\n",
    "    \n",
    "print('\\nUsing the enumerate function and stepping through the generator manually:')\n",
    "it = enumerate(flavor_list)\n",
    "print(next(it))\n",
    "print(next(it))\n",
    "print(next(it))\n",
    "print(next(it))\n",
    "\n",
    "print('\\nUsing the enumerate function in a for loop:')\n",
    "for i, flavor in enumerate(flavor_list):\n",
    "    print(f'{i+1}: {flavor}')\n",
    "    \n",
    "# you can actually make the above more concise by specifying the number from which enumerate\n",
    "# should begin counting (1 in this case) as the second parameter:\n",
    "# This is the most pythonic way of doing it.\n",
    "print('\\nUsing the enumerate function in a for loop starting at index 1:')\n",
    "for i, flavor in enumerate(flavor_list, 1):\n",
    "    print(f'{i}: {flavor}')\n"
   ]
  },
  {
   "cell_type": "markdown",
   "metadata": {},
   "source": [
    "## Item 8: Use zip to Process Iterators in Parallel##\n"
   ]
  },
  {
   "cell_type": "code",
   "execution_count": 94,
   "metadata": {},
   "outputs": [
    {
     "name": "stdout",
     "output_type": "stream",
     "text": [
      "[7, 4, 5]\n",
      "Cecilia\n"
     ]
    }
   ],
   "source": [
    "names = ['Cecilia', 'Lise', 'Marie']\n",
    "counts = [len(n) for n in names]\n",
    "print(counts)\n",
    "\n",
    "longest_name = None\n",
    "max_count = 0\n",
    "for i in range(len(names)):\n",
    "    count = counts[i]\n",
    "    if count > max_count:\n",
    "        longest_name = names[i]\n",
    "        max_count = count\n",
    "        \n",
    "print(longest_name)"
   ]
  },
  {
   "cell_type": "markdown",
   "metadata": {},
   "source": [
    "A more pythonic, and cleaner, way of doing the above is to use the built-in function `zip`:\n"
   ]
  },
  {
   "cell_type": "code",
   "execution_count": 95,
   "metadata": {},
   "outputs": [
    {
     "name": "stdout",
     "output_type": "stream",
     "text": [
      "Cecilia\n"
     ]
    }
   ],
   "source": [
    "for name, count in zip(names, counts):\n",
    "    if count > max_count:\n",
    "        longest_name = name\n",
    "        max_count = count\n",
    "        \n",
    "print(longest_name)"
   ]
  },
  {
   "cell_type": "markdown",
   "metadata": {},
   "source": [
    "One issue to be aware of with `zip` is that it will only keep yielding tuples until one of the wrapped iterators is exhausted.  Its output is only as long as its shortest input.  In many cases this truncating behavior of `zip` can be surprising and bad.  To overcome this, use the `zip_longest` function in the itertools module:"
   ]
  },
  {
   "cell_type": "code",
   "execution_count": 96,
   "metadata": {},
   "outputs": [],
   "source": [
    "import itertools\n",
    "names.append('Rosalind')"
   ]
  },
  {
   "cell_type": "code",
   "execution_count": 101,
   "metadata": {},
   "outputs": [
    {
     "name": "stdout",
     "output_type": "stream",
     "text": [
      "Even though we have appended Rosaling to the names list, we wont see it by using the built-in zip method\n",
      "Cecilia\n",
      "Lise\n",
      "Marie\n",
      "\n",
      "To fix this we can use the itertools.zip_longest method:\n",
      "Cecilia: 7\n",
      "Lise: 4\n",
      "Marie: 5\n",
      "Rosalind: None\n"
     ]
    }
   ],
   "source": [
    "import itertools\n",
    "\n",
    "# even though we've appended Rosalind to the names list we wont see it by using built-in zip\n",
    "print('Even though we have appended Rosaling to the names list,'\n",
    "      ' we wont see it by using the built-in zip method')\n",
    "for name, count in zip(names, counts):\n",
    "    print(name)\n",
    "\n",
    "print('\\nTo fix this we can use the itertools.zip_longest method:')\n",
    "for name, count in itertools.zip_longest(names, counts):\n",
    "    print(f'{name}: {count}')\n"
   ]
  },
  {
   "cell_type": "markdown",
   "metadata": {},
   "source": [
    "## Item 9: Avoid else Blocks After for and while Loops ##\n",
    "\n",
    "In python, an else block will run immediately after a loop finishes.  \n"
   ]
  },
  {
   "cell_type": "code",
   "execution_count": 105,
   "metadata": {},
   "outputs": [
    {
     "name": "stdout",
     "output_type": "stream",
     "text": [
      "Testing 2\n",
      "Testing 3\n",
      "Testing 4\n",
      "Coprime\n"
     ]
    }
   ],
   "source": [
    "# poor way of doing this:\n",
    "\n",
    "a = 4\n",
    "b = 9\n",
    "\n",
    "for i in range(2, min(a,b) + 1):\n",
    "    print('Testing', i)\n",
    "    if a % i == 0 and b % i == 0:\n",
    "        print('Not coprime')\n",
    "        break\n",
    "        \n",
    "else:\n",
    "    print('Coprime')"
   ]
  },
  {
   "cell_type": "code",
   "execution_count": 107,
   "metadata": {},
   "outputs": [
    {
     "ename": "AssertionError",
     "evalue": "",
     "output_type": "error",
     "traceback": [
      "\u001b[0;31m---------------------------------------------------------------------------\u001b[0m",
      "\u001b[0;31mAssertionError\u001b[0m                            Traceback (most recent call last)",
      "\u001b[0;32m<ipython-input-107-5f44ec8cc777>\u001b[0m in \u001b[0;36m<module>\u001b[0;34m\u001b[0m\n\u001b[1;32m      9\u001b[0m \u001b[0;32massert\u001b[0m \u001b[0mcoprime\u001b[0m\u001b[0;34m(\u001b[0m\u001b[0;36m4\u001b[0m\u001b[0;34m,\u001b[0m\u001b[0;36m9\u001b[0m\u001b[0;34m)\u001b[0m\u001b[0;34m\u001b[0m\u001b[0;34m\u001b[0m\u001b[0m\n\u001b[1;32m     10\u001b[0m \u001b[0;32massert\u001b[0m \u001b[0;32mnot\u001b[0m \u001b[0mcoprime\u001b[0m\u001b[0;34m(\u001b[0m\u001b[0;36m3\u001b[0m\u001b[0;34m,\u001b[0m\u001b[0;36m6\u001b[0m\u001b[0;34m)\u001b[0m\u001b[0;34m\u001b[0m\u001b[0;34m\u001b[0m\u001b[0m\n\u001b[0;32m---> 11\u001b[0;31m \u001b[0;32massert\u001b[0m \u001b[0mcoprime\u001b[0m\u001b[0;34m(\u001b[0m\u001b[0;36m3\u001b[0m\u001b[0;34m,\u001b[0m\u001b[0;36m6\u001b[0m\u001b[0;34m)\u001b[0m\u001b[0;34m\u001b[0m\u001b[0;34m\u001b[0m\u001b[0m\n\u001b[0m",
      "\u001b[0;31mAssertionError\u001b[0m: "
     ]
    }
   ],
   "source": [
    "# Better way 1: return early when I find a condition I'm looking for:\n",
    "\n",
    "def coprime(a, b):\n",
    "    for i in range(2, min(a, b) + 1):\n",
    "        if a % i == 0 and b % i == 0:\n",
    "            return False\n",
    "    return True\n",
    "\n",
    "assert coprime(4,9)\n",
    "assert not coprime(3,6)\n",
    "assert coprime(3,6)"
   ]
  },
  {
   "cell_type": "code",
   "execution_count": 110,
   "metadata": {},
   "outputs": [],
   "source": [
    "# Better way 2: have a result variable that indicates whether I've found what I'm looking for in the loop:\n",
    "\n",
    "def coprime_alternate(a, b):\n",
    "    is_coprime = True\n",
    "    for i in range(2, min(a, b) + 1):\n",
    "        if a % i == 0 and b % i == 0:\n",
    "            is_coprime = False\n",
    "            break\n",
    "    return is_coprime\n",
    "\n",
    "assert coprime_alternate(4, 9)\n",
    "assert not coprime_alternate(3, 6)"
   ]
  },
  {
   "cell_type": "markdown",
   "metadata": {},
   "source": [
    "## Item 10: Prevent Repetition with Assignment Expressions ##\n",
    "\n",
    "An assignment expression - also known as the *walrus operator* - is a new syntax introduced in python 3.8 to solve a long-standing problem with the language that can cause code duplication.  Whereas normal assignment statements are written `a = b` and pronounce \"a equals b\", these assignments are written `a := b` and is pronounced \"a walrus b\".  \n",
    "\n",
    "Assignment expressions are useful because they enable you to assign variables in places where assignment statements are disallowed, such as in the conditional expression of an if statement."
   ]
  },
  {
   "cell_type": "code",
   "execution_count": 115,
   "metadata": {},
   "outputs": [
    {
     "name": "stdout",
     "output_type": "stream",
     "text": [
      "Making lemonade.\n"
     ]
    }
   ],
   "source": [
    "fresh_fruit = {\n",
    "    'apple': 10,\n",
    "    'banana': 8,\n",
    "    'lemon': 5,\n",
    "}\n",
    "\n",
    "def make_lemonade(count):\n",
    "    print('Making lemonade.')\n",
    "\n",
    "def out_of_stock():\n",
    "    print('Out of stock.')\n",
    "\n",
    "count = fresh_fruit.get('lemon', 0)\n",
    "if count:\n",
    "    make_lemonade(count)\n",
    "else:\n",
    "    out_of_stock()"
   ]
  },
  {
   "cell_type": "markdown",
   "metadata": {},
   "source": [
    "The problem with this simple code is that it's noisier than it needs to be.  The ocunt variable is used only within the first block of the if statement.  Defining count above the if statement causes it to appaer to be more important than it really is, as if all code that follows, including the else block, will need to access the count variable, when in fact that is not the case.\n",
    "\n",
    "In the below example, the code is only one line shorter, but it's more readable because it's now clear that count is only relevant to the first block of the if statement.  The assignment operation is first assigning a value to the count variable, and then evaluating that value in the context of the if statement to determine how to proceed with flow control.  This two step behavior - assign and then evaluate - is the fundamental nature of the walrus operator."
   ]
  },
  {
   "cell_type": "code",
   "execution_count": 118,
   "metadata": {},
   "outputs": [
    {
     "name": "stdout",
     "output_type": "stream",
     "text": [
      "Making lemonade.\n"
     ]
    }
   ],
   "source": [
    "# Better way\n",
    "\n",
    "if count := fresh_fruit.get('lemon', 0):\n",
    "    make_lemonade(count)\n",
    "else:\n",
    "    out_of_stock()"
   ]
  },
  {
   "cell_type": "code",
   "execution_count": null,
   "metadata": {},
   "outputs": [],
   "source": []
  }
 ],
 "metadata": {
  "kernelspec": {
   "display_name": "Python 3",
   "language": "python",
   "name": "python3"
  },
  "language_info": {
   "codemirror_mode": {
    "name": "ipython",
    "version": 3
   },
   "file_extension": ".py",
   "mimetype": "text/x-python",
   "name": "python",
   "nbconvert_exporter": "python",
   "pygments_lexer": "ipython3",
   "version": "3.8.10"
  }
 },
 "nbformat": 4,
 "nbformat_minor": 4
}
